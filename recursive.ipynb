{
 "cells": [
  {
   "cell_type": "code",
   "execution_count": 1,
   "metadata": {},
   "outputs": [
    {
     "name": "stdout",
     "output_type": "stream",
     "text": [
      "6\n",
      "5\n",
      "4\n",
      "3\n",
      "2\n",
      "1\n"
     ]
    }
   ],
   "source": [
    "def Tail(n):\n",
    "    if (n > 0):\n",
    "        print(n)\n",
    "        return Tail(n-1)\n",
    "Tail(6)"
   ]
  },
  {
   "cell_type": "code",
   "execution_count": 5,
   "metadata": {},
   "outputs": [
    {
     "name": "stdout",
     "output_type": "stream",
     "text": [
      "6\n",
      "7\n",
      "8\n",
      "9\n",
      "10\n",
      "11\n",
      "12\n",
      "13\n",
      "14\n",
      "15\n",
      "16\n",
      "17\n",
      "18\n"
     ]
    }
   ],
   "source": [
    "def fun2(n):\n",
    "    if (n <= 18):\n",
    "        print(n)\n",
    "        return fun2(n+1)\n",
    "fun2(6)"
   ]
  },
  {
   "cell_type": "code",
   "execution_count": 6,
   "metadata": {},
   "outputs": [
    {
     "name": "stdout",
     "output_type": "stream",
     "text": [
      "6\n",
      "5\n",
      "4\n",
      "3\n",
      "2\n",
      "1\n"
     ]
    }
   ],
   "source": [
    "def fun3(n):\n",
    "    while (n > 0):\n",
    "        print(n)\n",
    "        n -= 1\n",
    "fun3(6)"
   ]
  },
  {
   "cell_type": "code",
   "execution_count": 9,
   "metadata": {},
   "outputs": [
    {
     "name": "stdout",
     "output_type": "stream",
     "text": [
      "1,2,3,4,5,6,"
     ]
    }
   ],
   "source": [
    "def fun4(n):\n",
    "    if (n > 0):\n",
    "        fun4(n-1)\n",
    "        print(n,end = ',')\n",
    "fun4(6)"
   ]
  },
  {
   "cell_type": "code",
   "execution_count": 10,
   "metadata": {},
   "outputs": [],
   "source": [
    "def fun5(n):\n",
    "    pass"
   ]
  },
  {
   "cell_type": "code",
   "execution_count": 16,
   "metadata": {},
   "outputs": [
    {
     "name": "stdout",
     "output_type": "stream",
     "text": [
      "3->2->1->1->2->1->1->"
     ]
    }
   ],
   "source": [
    "def fun6(n):\n",
    "    if (n > 0):\n",
    "        print(n , end = '->')\n",
    "        fun6(n-1)\n",
    "        fun6(n-1)\n",
    "fun6(3)"
   ]
  },
  {
   "cell_type": "code",
   "execution_count": 17,
   "metadata": {},
   "outputs": [
    {
     "data": {
      "text/plain": [
       "True"
      ]
     },
     "execution_count": 17,
     "metadata": {},
     "output_type": "execute_result"
    }
   ],
   "source": [
    "3 > 0"
   ]
  },
  {
   "cell_type": "code",
   "execution_count": 18,
   "metadata": {},
   "outputs": [
    {
     "name": "stdout",
     "output_type": "stream",
     "text": [
      "9\n",
      "8\n",
      "7\n",
      "6\n",
      "5\n",
      "4\n",
      "3\n",
      "2\n",
      "1\n"
     ]
    }
   ],
   "source": [
    "def Test(n):\n",
    "    if (n > 0):\n",
    "        print(n)\n",
    "        Test(n-1)\n",
    "if __name__ == '__main__':\n",
    "    Test(9)"
   ]
  },
  {
   "cell_type": "code",
   "execution_count": 19,
   "metadata": {},
   "outputs": [
    {
     "name": "stdout",
     "output_type": "stream",
     "text": [
      "9\n",
      "10\n",
      "11\n",
      "12\n",
      "13\n",
      "14\n",
      "15\n",
      "16\n",
      "17\n"
     ]
    }
   ],
   "source": [
    "def Test2(n):\n",
    "    if (n < 18):\n",
    "        print(n)\n",
    "        Test2(n+1)\n",
    "if __name__ == '__main__':\n",
    "    Test2(9)"
   ]
  },
  {
   "cell_type": "code",
   "execution_count": 22,
   "metadata": {},
   "outputs": [
    {
     "name": "stdout",
     "output_type": "stream",
     "text": [
      "1->2->3->4->5->6->7->8->9->"
     ]
    }
   ],
   "source": [
    "def Test3(n):\n",
    "    if (n > 0):\n",
    "        Test3(n-1)\n",
    "        print(n , end = '->')\n",
    "if __name__ == '__main__':\n",
    "    Test3(9)"
   ]
  },
  {
   "cell_type": "code",
   "execution_count": 28,
   "metadata": {},
   "outputs": [
    {
     "name": "stdout",
     "output_type": "stream",
     "text": [
      "9->8->7->6->5->4->3->2->1->"
     ]
    }
   ],
   "source": [
    "def Test4(n):\n",
    "    if (n > 0):\n",
    "        print(n , end = '->')\n",
    "        return Test4(n-1) + 4\n",
    "    return 0\n",
    "\n",
    "if __name__ == '__main__':\n",
    "    Test4(9)"
   ]
  },
  {
   "cell_type": "code",
   "execution_count": 2,
   "metadata": {},
   "outputs": [
    {
     "name": "stdout",
     "output_type": "stream",
     "text": [
      "1->2->3->4->5->6->7->8->9->"
     ]
    }
   ],
   "source": [
    "def Test(n):\n",
    "    if (n > 0):\n",
    "        Test(n-1)\n",
    "        print(n , end = '->')\n",
    "Test(9) "
   ]
  },
  {
   "cell_type": "code",
   "execution_count": 1,
   "metadata": {},
   "outputs": [
    {
     "name": "stdout",
     "output_type": "stream",
     "text": [
      "9->8->7->6->5->4->3->2->1->"
     ]
    }
   ],
   "source": [
    "def Test1(n):\n",
    "    if (n > 0):\n",
    "        print(n , end = '->')\n",
    "        Test1(n-1)\n",
    "Test1(9)"
   ]
  },
  {
   "cell_type": "code",
   "execution_count": 4,
   "metadata": {},
   "outputs": [
    {
     "name": "stdout",
     "output_type": "stream",
     "text": [
      "6 1->5 1->4 1->3 1->2 1->1 1->"
     ]
    }
   ],
   "source": [
    "def Test2(n):\n",
    "    x = 0\n",
    "    if n > 0:\n",
    "        x += 1\n",
    "        print(n ,x, end = '->')\n",
    "        Test2(n-1)\n",
    "if __name__ == \"__main__\":\n",
    "    Test2(6)"
   ]
  },
  {
   "cell_type": "code",
   "execution_count": 7,
   "metadata": {},
   "outputs": [
    {
     "name": "stdout",
     "output_type": "stream",
     "text": [
      "3->2->1->"
     ]
    }
   ],
   "source": [
    "def Test4(n):\n",
    "    x = 0\n",
    "    if ( n > 0):\n",
    "        x += 1\n",
    "        # print(n , end = '->')\n",
    "        return Test4(n-1) + x\n",
    "    return 0\n",
    "\n",
    "if __name__ == '__main__':\n",
    "    Test4(3)"
   ]
  },
  {
   "cell_type": "code",
   "execution_count": 7,
   "metadata": {},
   "outputs": [
    {
     "name": "stdout",
     "output_type": "stream",
     "text": [
      "1121"
     ]
    }
   ],
   "source": [
    "def Test5(n):\n",
    "    for i in range(n):\n",
    "        if (i > 0):\n",
    "            print(i , end = '')\n",
    "            Test5(n-1)\n",
    "if __name__ == \"__main__\":\n",
    "    Test5(3)"
   ]
  },
  {
   "cell_type": "code",
   "execution_count": 3,
   "metadata": {},
   "outputs": [
    {
     "name": "stdout",
     "output_type": "stream",
     "text": [
      "1->1->1->2->1->"
     ]
    }
   ],
   "source": [
    "def Test6(n):\n",
    "    for i in range(n):\n",
    "        if ( i > 0):\n",
    "            print(i , end = '->')\n",
    "        Test6(n-1)\n",
    "\n",
    "\n",
    "if __name__ == \"__main__\":\n",
    "    Test6(3)"
   ]
  },
  {
   "cell_type": "code",
   "execution_count": 12,
   "metadata": {},
   "outputs": [
    {
     "name": "stdout",
     "output_type": "stream",
     "text": [
      "1->2->3->"
     ]
    }
   ],
   "source": [
    "def fun(n):\n",
    "    i = 0\n",
    "    while (i < n):\n",
    "        i += 1\n",
    "        print(i , end = '->')\n",
    "if __name__ == '__main__':\n",
    "    fun(3)"
   ]
  },
  {
   "cell_type": "code",
   "execution_count": 15,
   "metadata": {},
   "outputs": [
    {
     "name": "stdout",
     "output_type": "stream",
     "text": [
      "1->2->3->"
     ]
    }
   ],
   "source": [
    "def fun(n):\n",
    "    if (n > 0):\n",
    "        fun(n-1)\n",
    "        print(n,end = '->')    \n",
    "if __name__ == '__main__':\n",
    "    fun(3)"
   ]
  },
  {
   "cell_type": "code",
   "execution_count": 16,
   "metadata": {},
   "outputs": [
    {
     "name": "stdout",
     "output_type": "stream",
     "text": [
      "3->2->1->1->2->1->1->"
     ]
    }
   ],
   "source": [
    "def Test(n):\n",
    "    if (n > 0):\n",
    "        print(n, end = '->')\n",
    "        Test(n-1)\n",
    "        Test(n-1)\n",
    "\n",
    "if __name__ == '__main__':\n",
    "    Test(3)\n"
   ]
  },
  {
   "cell_type": "code",
   "execution_count": 18,
   "metadata": {},
   "outputs": [
    {
     "name": "stdout",
     "output_type": "stream",
     "text": [
      "1->2->1->3->1->2->1->"
     ]
    }
   ],
   "source": [
    "def Test(n):\n",
    "    if (n > 0):\n",
    "        Test(n-1)\n",
    "        print(n,end = '->')\n",
    "        Test(n-1)\n",
    "\n",
    "if __name__ == '__main__':\n",
    "    Test(3)"
   ]
  },
  {
   "cell_type": "code",
   "execution_count": 19,
   "metadata": {},
   "outputs": [
    {
     "name": "stdout",
     "output_type": "stream",
     "text": [
      "1->1->2->1->1->2->3->"
     ]
    }
   ],
   "source": [
    "def Test(n):\n",
    "    if (n > 0):\n",
    "        Test(n-1)\n",
    "        Test(n-1)\n",
    "        print(n,end = '->')\n",
    "\n",
    "Test(3)"
   ]
  },
  {
   "cell_type": "code",
   "execution_count": 24,
   "metadata": {},
   "outputs": [
    {
     "name": "stdout",
     "output_type": "stream",
     "text": [
      "20->19->9.5->8.5->4.25->3.25->1.625->"
     ]
    }
   ],
   "source": [
    "def TestA(n):\n",
    "    if (n > 0):\n",
    "        print(n, end = '->')\n",
    "        TestB(n-1)\n",
    "\n",
    "def TestB(n):\n",
    "    if (n > 1):\n",
    "        print(n , end = '->')\n",
    "        TestA(n/2)\n",
    "\n",
    "if __name__ == '__main__':\n",
    "    TestA(20)"
   ]
  },
  {
   "cell_type": "code",
   "execution_count": 26,
   "metadata": {},
   "outputs": [
    {
     "name": "stdout",
     "output_type": "stream",
     "text": [
      "91\n"
     ]
    }
   ],
   "source": [
    "def Test1(n):\n",
    "    if (n > 100):\n",
    "        return n-10\n",
    "    else:\n",
    "        return Test1(Test1(n+11))\n",
    "\n",
    "if __name__  == '__main__':\n",
    "    print(Test1(96)) \n",
    "    "
   ]
  },
  {
   "cell_type": "code",
   "execution_count": 29,
   "metadata": {},
   "outputs": [
    {
     "name": "stdout",
     "output_type": "stream",
     "text": [
      "45\n"
     ]
    }
   ],
   "source": [
    "def sumof(n):\n",
    "    if ( n == 0):\n",
    "        return 0\n",
    "    else:\n",
    "        return  n + sumof(n-1)\n",
    "\n",
    "if __name__ == '__main__':\n",
    "    print(sumof(9))"
   ]
  },
  {
   "cell_type": "code",
   "execution_count": 30,
   "metadata": {},
   "outputs": [
    {
     "name": "stdout",
     "output_type": "stream",
     "text": [
      "44\n"
     ]
    }
   ],
   "source": [
    "def sumoo(n):\n",
    "    if (n <= 1):\n",
    "        return 0\n",
    "    else:\n",
    "        return  sumoo(n-1) + n\n",
    "\n",
    "if __name__ == '__main__':\n",
    "    print(sumoo(9))\n"
   ]
  },
  {
   "cell_type": "code",
   "execution_count": 32,
   "metadata": {},
   "outputs": [
    {
     "name": "stdout",
     "output_type": "stream",
     "text": [
      "36\n"
     ]
    }
   ],
   "source": [
    "def sumoff(n):\n",
    "    count = 0\n",
    "    for i in range(n):\n",
    "        count += i\n",
    "    return count\n",
    "\n",
    "if __name__ == \"__main__\":\n",
    "    print(sumoff(9))\n",
    "    "
   ]
  },
  {
   "cell_type": "code",
   "execution_count": 37,
   "metadata": {},
   "outputs": [
    {
     "name": "stdout",
     "output_type": "stream",
     "text": [
      "120\n"
     ]
    }
   ],
   "source": [
    "def factorial(n):\n",
    "    if (n == 0):\n",
    "        return 1\n",
    "    else:\n",
    "        return factorial(n-1) * n\n",
    "\n",
    "if __name__ == '__main__':\n",
    "    print(factorial(5))"
   ]
  },
  {
   "cell_type": "code",
   "execution_count": 40,
   "metadata": {},
   "outputs": [
    {
     "name": "stdout",
     "output_type": "stream",
     "text": [
      "3.45\n"
     ]
    }
   ],
   "source": [
    "def tylore_series(x , n):\n",
    "    f, p = 1,1\n",
    "    if (n == 0):\n",
    "        return 1\n",
    "    else:\n",
    "        r =  tylore_series(x , n-1)\n",
    "        p = p*x\n",
    "        f = p*n\n",
    "        return r+p/f\n",
    "\n",
    "if __name__ == \"__main__\":\n",
    "    print(tylore_series(9,6))"
   ]
  },
  {
   "cell_type": "code",
   "execution_count": 43,
   "metadata": {},
   "outputs": [
    {
     "name": "stdout",
     "output_type": "stream",
     "text": [
      "8\n"
     ]
    }
   ],
   "source": [
    "def fibonacci(n):\n",
    "    if (n <= 1):\n",
    "        return n\n",
    "    return fibonacci(n-2) + fibonacci(n-1)\n",
    "\n",
    "if __name__ == '__main__':\n",
    "    print(fibonacci(6))"
   ]
  },
  {
   "cell_type": "code",
   "execution_count": 44,
   "metadata": {},
   "outputs": [
    {
     "name": "stdout",
     "output_type": "stream",
     "text": [
      "8\n"
     ]
    }
   ],
   "source": [
    "def fibonacci1(n):\n",
    "    first ,second = 0,1\n",
    "    for i in range(1,n):\n",
    "        result = first + second\n",
    "        first = second\n",
    "        second = result\n",
    "    return result\n",
    "\n",
    "if __name__ == \"__main__\":\n",
    "    print(fibonacci(6))"
   ]
  },
  {
   "cell_type": "code",
   "execution_count": 45,
   "metadata": {},
   "outputs": [
    {
     "name": "stdout",
     "output_type": "stream",
     "text": [
      "256\n"
     ]
    }
   ],
   "source": [
    "def combination_formula(n,r):\n",
    "    if (n == 0 or n == 1):\n",
    "        return 1\n",
    "    else:\n",
    "        return combination_formula(n-1,r-1)+ combination_formula(n-1,r)\n",
    "\n",
    "if __name__ == '__main__':\n",
    "    print(combination_formula(9,6)) "
   ]
  },
  {
   "cell_type": "code",
   "execution_count": 47,
   "metadata": {},
   "outputs": [
    {
     "name": "stdout",
     "output_type": "stream",
     "text": [
      "6 3 18\n",
      "6 18 3\n",
      "18 6 3\n",
      "6 3 18\n",
      "3 18 6\n",
      "3 6 18\n",
      "6 3 18\n",
      "6 18 3\n",
      "18 6 3\n",
      "18 3 6\n",
      "3 18 6\n",
      "18 6 3\n",
      "6 3 18\n",
      "6 18 3\n",
      "18 6 3\n",
      "6 3 18\n",
      "3 18 6\n",
      "3 6 18\n",
      "6 3 18\n",
      "3 18 6\n",
      "18 6 3\n",
      "18 3 6\n",
      "3 18 6\n",
      "3 6 18\n",
      "6 3 18\n",
      "6 18 3\n",
      "18 6 3\n",
      "6 3 18\n",
      "3 18 6\n",
      "3 6 18\n",
      "6 3 18\n",
      "6 18 3\n",
      "18 6 3\n",
      "18 3 6\n",
      "3 18 6\n",
      "18 6 3\n",
      "6 3 18\n",
      "6 18 3\n",
      "18 6 3\n",
      "18 3 6\n",
      "3 18 6\n",
      "3 6 18\n",
      "6 3 18\n",
      "3 18 6\n",
      "18 6 3\n",
      "18 3 6\n",
      "3 18 6\n",
      "18 6 3\n",
      "6 3 18\n",
      "6 18 3\n",
      "18 6 3\n",
      "6 3 18\n",
      "3 18 6\n",
      "3 6 18\n",
      "6 3 18\n",
      "6 18 3\n",
      "18 6 3\n",
      "18 3 6\n",
      "3 18 6\n",
      "18 6 3\n",
      "6 3 18\n",
      "6 18 3\n",
      "18 6 3\n",
      "6 3 18\n",
      "3 18 6\n",
      "3 6 18\n",
      "6 3 18\n",
      "3 18 6\n",
      "18 6 3\n",
      "18 3 6\n",
      "3 18 6\n",
      "3 6 18\n",
      "6 3 18\n",
      "6 18 3\n",
      "18 6 3\n",
      "6 3 18\n",
      "3 18 6\n",
      "3 6 18\n",
      "6 3 18\n",
      "3 18 6\n",
      "18 6 3\n",
      "18 3 6\n",
      "3 18 6\n",
      "18 6 3\n",
      "6 3 18\n",
      "6 18 3\n",
      "18 6 3\n",
      "18 3 6\n",
      "3 18 6\n",
      "3 6 18\n",
      "6 3 18\n",
      "3 18 6\n",
      "18 6 3\n",
      "18 3 6\n",
      "3 18 6\n",
      "3 6 18\n",
      "6 3 18\n",
      "6 18 3\n",
      "18 6 3\n",
      "6 3 18\n",
      "3 18 6\n",
      "3 6 18\n",
      "6 3 18\n",
      "6 18 3\n",
      "18 6 3\n",
      "18 3 6\n",
      "3 18 6\n",
      "18 6 3\n",
      "6 3 18\n",
      "6 18 3\n",
      "18 6 3\n",
      "6 3 18\n",
      "3 18 6\n",
      "3 6 18\n",
      "6 3 18\n",
      "3 18 6\n",
      "18 6 3\n",
      "18 3 6\n",
      "3 18 6\n",
      "3 6 18\n",
      "6 3 18\n",
      "6 18 3\n",
      "18 6 3\n",
      "6 3 18\n",
      "3 18 6\n",
      "3 6 18\n",
      "6 3 18\n",
      "6 18 3\n",
      "18 6 3\n",
      "18 3 6\n",
      "3 18 6\n",
      "18 6 3\n",
      "6 3 18\n",
      "6 18 3\n",
      "18 6 3\n",
      "18 3 6\n",
      "3 18 6\n",
      "3 6 18\n",
      "6 3 18\n",
      "3 18 6\n",
      "18 6 3\n",
      "18 3 6\n",
      "3 18 6\n",
      "18 6 3\n",
      "6 3 18\n",
      "6 18 3\n",
      "18 6 3\n",
      "6 3 18\n",
      "3 18 6\n",
      "3 6 18\n",
      "6 3 18\n",
      "6 18 3\n",
      "18 6 3\n",
      "18 3 6\n",
      "3 18 6\n",
      "18 6 3\n",
      "6 3 18\n",
      "6 18 3\n",
      "18 6 3\n",
      "18 3 6\n",
      "3 18 6\n",
      "3 6 18\n",
      "6 3 18\n",
      "3 18 6\n",
      "18 6 3\n",
      "18 3 6\n",
      "3 18 6\n",
      "3 6 18\n",
      "6 3 18\n",
      "6 18 3\n",
      "18 6 3\n",
      "6 3 18\n",
      "3 18 6\n",
      "3 6 18\n",
      "6 3 18\n",
      "3 18 6\n",
      "18 6 3\n",
      "18 3 6\n",
      "3 18 6\n",
      "18 6 3\n",
      "6 3 18\n",
      "6 18 3\n",
      "18 6 3\n",
      "18 3 6\n",
      "3 18 6\n",
      "3 6 18\n",
      "6 3 18\n",
      "3 18 6\n",
      "18 6 3\n",
      "18 3 6\n",
      "3 18 6\n",
      "18 6 3\n",
      "6 3 18\n",
      "6 18 3\n",
      "18 6 3\n",
      "6 3 18\n",
      "3 18 6\n",
      "3 6 18\n",
      "6 3 18\n",
      "6 18 3\n",
      "18 6 3\n",
      "18 3 6\n",
      "3 18 6\n",
      "18 6 3\n",
      "6 3 18\n",
      "6 18 3\n",
      "18 6 3\n",
      "6 3 18\n",
      "3 18 6\n",
      "3 6 18\n",
      "6 3 18\n",
      "3 18 6\n",
      "18 6 3\n",
      "18 3 6\n",
      "3 18 6\n",
      "3 6 18\n",
      "6 3 18\n",
      "6 18 3\n",
      "18 6 3\n",
      "6 3 18\n",
      "3 18 6\n",
      "3 6 18\n",
      "6 3 18\n",
      "6 18 3\n",
      "18 6 3\n",
      "18 3 6\n",
      "3 18 6\n",
      "18 6 3\n",
      "6 3 18\n",
      "6 18 3\n",
      "18 6 3\n",
      "18 3 6\n",
      "3 18 6\n",
      "3 6 18\n",
      "6 3 18\n",
      "3 18 6\n",
      "18 6 3\n",
      "18 3 6\n",
      "3 18 6\n",
      "18 6 3\n",
      "6 3 18\n",
      "6 18 3\n",
      "18 6 3\n",
      "6 3 18\n",
      "3 18 6\n",
      "3 6 18\n",
      "6 3 18\n",
      "6 18 3\n",
      "18 6 3\n",
      "18 3 6\n",
      "3 18 6\n",
      "18 6 3\n",
      "6 3 18\n",
      "6 18 3\n",
      "18 6 3\n",
      "6 3 18\n",
      "3 18 6\n",
      "3 6 18\n",
      "6 3 18\n",
      "3 18 6\n",
      "18 6 3\n",
      "18 3 6\n",
      "3 18 6\n",
      "3 6 18\n",
      "6 3 18\n",
      "6 18 3\n",
      "18 6 3\n",
      "6 3 18\n",
      "3 18 6\n",
      "3 6 18\n",
      "6 3 18\n",
      "3 18 6\n",
      "18 6 3\n",
      "18 3 6\n",
      "3 18 6\n",
      "18 6 3\n",
      "6 3 18\n",
      "6 18 3\n",
      "18 6 3\n",
      "18 3 6\n",
      "3 18 6\n",
      "3 6 18\n",
      "6 3 18\n",
      "3 18 6\n",
      "18 6 3\n",
      "18 3 6\n",
      "3 18 6\n",
      "3 6 18\n",
      "6 3 18\n",
      "6 18 3\n",
      "18 6 3\n",
      "6 3 18\n",
      "3 18 6\n",
      "3 6 18\n",
      "6 3 18\n",
      "6 18 3\n",
      "18 6 3\n",
      "18 3 6\n",
      "3 18 6\n",
      "18 6 3\n",
      "6 3 18\n",
      "6 18 3\n",
      "18 6 3\n",
      "6 3 18\n",
      "3 18 6\n",
      "3 6 18\n",
      "6 3 18\n",
      "3 18 6\n",
      "18 6 3\n",
      "18 3 6\n",
      "3 18 6\n",
      "3 6 18\n",
      "6 3 18\n",
      "6 18 3\n",
      "18 6 3\n",
      "6 3 18\n",
      "3 18 6\n",
      "3 6 18\n",
      "6 3 18\n",
      "3 18 6\n",
      "18 6 3\n",
      "18 3 6\n",
      "3 18 6\n",
      "18 6 3\n",
      "6 3 18\n",
      "6 18 3\n",
      "18 6 3\n",
      "18 3 6\n",
      "3 18 6\n",
      "3 6 18\n",
      "6 3 18\n",
      "3 18 6\n",
      "18 6 3\n",
      "18 3 6\n",
      "3 18 6\n",
      "18 6 3\n",
      "6 3 18\n",
      "6 18 3\n",
      "18 6 3\n",
      "6 3 18\n",
      "3 18 6\n",
      "3 6 18\n",
      "6 3 18\n",
      "6 18 3\n",
      "18 6 3\n",
      "18 3 6\n",
      "3 18 6\n",
      "18 6 3\n",
      "6 3 18\n",
      "6 18 3\n",
      "18 6 3\n",
      "18 3 6\n",
      "3 18 6\n",
      "3 6 18\n",
      "6 3 18\n",
      "3 18 6\n",
      "18 6 3\n",
      "18 3 6\n",
      "3 18 6\n",
      "3 6 18\n",
      "6 3 18\n",
      "6 18 3\n",
      "18 6 3\n",
      "6 3 18\n",
      "3 18 6\n",
      "3 6 18\n",
      "6 3 18\n",
      "3 18 6\n",
      "18 6 3\n",
      "18 3 6\n",
      "3 18 6\n",
      "18 6 3\n",
      "6 3 18\n",
      "6 18 3\n",
      "18 6 3\n",
      "18 3 6\n",
      "3 18 6\n",
      "3 6 18\n",
      "6 3 18\n",
      "3 18 6\n",
      "18 6 3\n",
      "18 3 6\n",
      "3 18 6\n",
      "3 6 18\n",
      "6 3 18\n",
      "6 18 3\n",
      "18 6 3\n",
      "6 3 18\n",
      "3 18 6\n",
      "3 6 18\n",
      "6 3 18\n",
      "6 18 3\n",
      "18 6 3\n",
      "18 3 6\n",
      "3 18 6\n",
      "18 6 3\n",
      "6 3 18\n",
      "6 18 3\n",
      "18 6 3\n",
      "6 3 18\n",
      "3 18 6\n",
      "3 6 18\n",
      "6 3 18\n",
      "3 18 6\n",
      "18 6 3\n",
      "18 3 6\n",
      "3 18 6\n",
      "3 6 18\n",
      "6 3 18\n",
      "6 18 3\n",
      "18 6 3\n",
      "6 3 18\n",
      "3 18 6\n",
      "3 6 18\n",
      "6 3 18\n",
      "6 18 3\n",
      "18 6 3\n",
      "18 3 6\n",
      "3 18 6\n",
      "18 6 3\n",
      "6 3 18\n",
      "6 18 3\n",
      "18 6 3\n",
      "18 3 6\n",
      "3 18 6\n",
      "3 6 18\n",
      "6 3 18\n",
      "3 18 6\n",
      "18 6 3\n",
      "18 3 6\n",
      "3 18 6\n",
      "18 6 3\n",
      "6 3 18\n",
      "6 18 3\n",
      "18 6 3\n",
      "6 3 18\n",
      "3 18 6\n",
      "3 6 18\n",
      "6 3 18\n",
      "6 18 3\n",
      "18 6 3\n",
      "18 3 6\n",
      "3 18 6\n",
      "18 6 3\n",
      "6 3 18\n",
      "6 18 3\n",
      "18 6 3\n",
      "6 3 18\n",
      "3 18 6\n",
      "3 6 18\n",
      "6 3 18\n",
      "3 18 6\n",
      "18 6 3\n",
      "18 3 6\n",
      "3 18 6\n",
      "3 6 18\n",
      "6 3 18\n",
      "6 18 3\n",
      "18 6 3\n",
      "6 3 18\n",
      "3 18 6\n",
      "3 6 18\n",
      "6 3 18\n",
      "3 18 6\n",
      "18 6 3\n",
      "18 3 6\n",
      "3 18 6\n",
      "18 6 3\n",
      "6 3 18\n",
      "6 18 3\n",
      "18 6 3\n",
      "18 3 6\n",
      "3 18 6\n",
      "3 6 18\n",
      "6 3 18\n",
      "3 18 6\n",
      "18 6 3\n",
      "18 3 6\n",
      "3 18 6\n",
      "3 6 18\n",
      "6 3 18\n",
      "6 18 3\n",
      "18 6 3\n",
      "6 3 18\n",
      "3 18 6\n",
      "3 6 18\n",
      "6 3 18\n",
      "6 18 3\n",
      "18 6 3\n",
      "18 3 6\n",
      "3 18 6\n",
      "18 6 3\n",
      "6 3 18\n",
      "6 18 3\n",
      "18 6 3\n",
      "6 3 18\n",
      "3 18 6\n",
      "3 6 18\n",
      "6 3 18\n",
      "3 18 6\n",
      "18 6 3\n",
      "18 3 6\n",
      "3 18 6\n",
      "3 6 18\n",
      "6 3 18\n",
      "6 18 3\n",
      "18 6 3\n",
      "6 3 18\n",
      "3 18 6\n",
      "3 6 18\n",
      "6 3 18\n",
      "None\n"
     ]
    }
   ],
   "source": [
    "def tower_of_honia(n,a,b,c):\n",
    "    if (n > 0):\n",
    "        tower_of_honia(n-1,a,c,b)\n",
    "        print(a,b,c)\n",
    "        tower_of_honia(n-1,b,a,c)\n",
    "\n",
    "if __name__ == '__main__':\n",
    "    print(tower_of_honia(9,6,3,18))\n"
   ]
  },
  {
   "cell_type": "code",
   "execution_count": null,
   "metadata": {},
   "outputs": [],
   "source": []
  }
 ],
 "metadata": {
  "kernelspec": {
   "display_name": "Python 3",
   "language": "python",
   "name": "python3"
  },
  "language_info": {
   "codemirror_mode": {
    "name": "ipython",
    "version": 3
   },
   "file_extension": ".py",
   "mimetype": "text/x-python",
   "name": "python",
   "nbconvert_exporter": "python",
   "pygments_lexer": "ipython3",
   "version": "3.9.2"
  },
  "orig_nbformat": 4,
  "vscode": {
   "interpreter": {
    "hash": "b44dec303c593d8d8daa19f9928a44a58f5dd6858780405ef540750c1cbc0680"
   }
  }
 },
 "nbformat": 4,
 "nbformat_minor": 2
}
