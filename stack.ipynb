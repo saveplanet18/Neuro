{
 "cells": [
  {
   "cell_type": "code",
   "execution_count": 56,
   "metadata": {},
   "outputs": [],
   "source": [
    "class stack(object):\n",
    "\n",
    "    def __init__(self):\n",
    "        self.elements = []\n",
    "        self.top = -1\n",
    "        self.size = len(self.elements)\n",
    "\n",
    "    def is_empty(self):\n",
    "        return len(self.elements) == 0\n",
    "\n",
    "    def push(self,ele):\n",
    "        self.top = self.top+1\n",
    "        add = self.elements.append(ele)\n",
    "        return add\n",
    "\n",
    "    def Delete(self):\n",
    "        if(self.top == -1):\n",
    "            print(\"stack is empty\")\n",
    "        else:\n",
    "            remove = self.elements.pop()\n",
    "            self.top -=1\n",
    "    \n",
    "    def peek(self):\n",
    "        return self.elements[-1]\n",
    "    \n",
    "    def show(self):\n",
    "        temp = self.elements\n",
    "        for i in range(len(temp)):\n",
    "            print(temp[i])"
   ]
  },
  {
   "cell_type": "code",
   "execution_count": 58,
   "metadata": {},
   "outputs": [
    {
     "name": "stdout",
     "output_type": "stream",
     "text": [
      "True\n",
      "108\n",
      "90\n",
      "45\n",
      "96\n",
      "last element 96\n"
     ]
    }
   ],
   "source": [
    "st = stack()\n",
    "st.elements\n",
    "st.size\n",
    "print(st.is_empty())\n",
    "st.push(108)\n",
    "st.push(90)\n",
    "st.push(45)\n",
    "st.push(96)\n",
    "st.push(58)\n",
    "st.Delete()\n",
    "st.show()\n",
    "print(\"last element\",st.peek())"
   ]
  },
  {
   "cell_type": "code",
   "execution_count": 100,
   "metadata": {},
   "outputs": [],
   "source": [
    "# Linked list implementation in stack\n",
    "class Linked_stack(object):\n",
    "\n",
    "    def __init__(self,elements):\n",
    "        self.elements = elements\n",
    "        self.next = None\n",
    "        self.top = -1\n",
    "\n",
    "class Stack_Linked(object):\n",
    "    \n",
    "    def __init__(self):\n",
    "        self.head = None\n",
    "\n",
    "    def Insertion_at_Top(self,ele):\n",
    "        ptr = Linked_stack(ele)\n",
    "        if(self.head == None):\n",
    "            ptr.next = self.head\n",
    "            self.head = ptr\n",
    "            return\n",
    "        else:\n",
    "            ptr.top = ptr.top+1\n",
    "            ptr.next = self.head\n",
    "            self.head = ptr\n",
    "\n",
    "    def Deletion_at_First(self):\n",
    "        if(self.head == None):\n",
    "            self.head = None\n",
    "        else:\n",
    "            temp = self.head\n",
    "            self.head = self.head.next\n",
    "            temp = None\n",
    "    \n",
    "\n",
    "    \n",
    "    def showList(self):\n",
    "        temp = self.head\n",
    "        if(temp == None):\n",
    "            print(\"stack is empty\")\n",
    "        else:\n",
    "            while(temp != None):\n",
    "                print(temp.elements)\n",
    "                temp = temp.next"
   ]
  },
  {
   "cell_type": "code",
   "execution_count": 101,
   "metadata": {},
   "outputs": [
    {
     "name": "stdout",
     "output_type": "stream",
     "text": [
      "900\n",
      "103\n",
      "89\n",
      "45\n",
      "36\n",
      "108\n",
      "******\n",
      "45\n",
      "36\n",
      "108\n"
     ]
    }
   ],
   "source": [
    "st_Link = Stack_Linked()\n",
    "st_Link.Insertion_at_Top(108)\n",
    "st_Link.Insertion_at_Top(36)\n",
    "st_Link.Insertion_at_Top(45)\n",
    "st_Link.Insertion_at_Top(89)\n",
    "st_Link.Insertion_at_Top(103)\n",
    "st_Link.Insertion_at_Top(900)\n",
    "st_Link.showList()\n",
    "print(\"******\")\n",
    "st_Link.Deletion_at_First()\n",
    "st_Link.Deletion_at_First()\n",
    "st_Link.Deletion_at_First()\n",
    "st_Link.showList()\n",
    "\n"
   ]
  },
  {
   "cell_type": "code",
   "execution_count": null,
   "metadata": {},
   "outputs": [],
   "source": []
  }
 ],
 "metadata": {
  "kernelspec": {
   "display_name": "Python 3.9.2 64-bit",
   "language": "python",
   "name": "python3"
  },
  "language_info": {
   "codemirror_mode": {
    "name": "ipython",
    "version": 3
   },
   "file_extension": ".py",
   "mimetype": "text/x-python",
   "name": "python",
   "nbconvert_exporter": "python",
   "pygments_lexer": "ipython3",
   "version": "3.9.2"
  },
  "orig_nbformat": 4,
  "vscode": {
   "interpreter": {
    "hash": "b44dec303c593d8d8daa19f9928a44a58f5dd6858780405ef540750c1cbc0680"
   }
  }
 },
 "nbformat": 4,
 "nbformat_minor": 2
}
