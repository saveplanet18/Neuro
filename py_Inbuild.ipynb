{
 "cells": [
  {
   "cell_type": "code",
   "execution_count": 23,
   "metadata": {},
   "outputs": [
    {
     "name": "stdout",
     "output_type": "stream",
     "text": [
      "None\n"
     ]
    },
    {
     "ename": "TypeError",
     "evalue": "'<' not supported between instances of 'complex' and 'int'",
     "output_type": "error",
     "traceback": [
      "\u001b[1;31m---------------------------------------------------------------------------\u001b[0m",
      "\u001b[1;31mTypeError\u001b[0m                                 Traceback (most recent call last)",
      "\u001b[1;32m~\\AppData\\Local\\Temp/ipykernel_9824/1695386328.py\u001b[0m in \u001b[0;36m<module>\u001b[1;34m\u001b[0m\n\u001b[0;32m     87\u001b[0m \u001b[1;33m\u001b[0m\u001b[0m\n\u001b[0;32m     88\u001b[0m \u001b[0my\u001b[0m \u001b[1;33m=\u001b[0m \u001b[1;33m[\u001b[0m\u001b[1;36m2\u001b[0m\u001b[1;33m,\u001b[0m\u001b[1;36m5j\u001b[0m\u001b[1;33m,\u001b[0m\u001b[1;36m6\u001b[0m\u001b[1;33m]\u001b[0m\u001b[1;33m\u001b[0m\u001b[1;33m\u001b[0m\u001b[0m\n\u001b[1;32m---> 89\u001b[1;33m \u001b[0my\u001b[0m\u001b[1;33m.\u001b[0m\u001b[0msort\u001b[0m\u001b[1;33m(\u001b[0m\u001b[1;33m)\u001b[0m\u001b[1;33m\u001b[0m\u001b[1;33m\u001b[0m\u001b[0m\n\u001b[0m\u001b[0;32m     90\u001b[0m \u001b[0mprint\u001b[0m\u001b[1;33m(\u001b[0m\u001b[0my\u001b[0m\u001b[1;33m)\u001b[0m\u001b[1;33m\u001b[0m\u001b[1;33m\u001b[0m\u001b[0m\n\u001b[0;32m     91\u001b[0m \u001b[1;33m\u001b[0m\u001b[0m\n",
      "\u001b[1;31mTypeError\u001b[0m: '<' not supported between instances of 'complex' and 'int'"
     ]
    }
   ],
   "source": [
    "# len_function \n",
    "arr = [18,4,5,6,9,8,7,5,4,3,2,6,9,8,1,5,2,4,8,5,9,5,7,4]\n",
    "def len_function(arr):\n",
    "    count = 0\n",
    "    N = len(arr)\n",
    "    for i in range(N):\n",
    "        count +=1\n",
    "    return count\n",
    "# print(len_function(arr))\n",
    "# print(len(arr))\n",
    "\n",
    "def Max_function(arr):\n",
    "    n = len_function(arr)\n",
    "    highest = 0\n",
    "    for i in range(n):\n",
    "        if arr[i] > arr[highest]:\n",
    "            arr[highest] = arr[i]\n",
    "\n",
    "    return arr[highest]\n",
    "\n",
    "# print(Max_function(arr))\n",
    "# print(max(arr))\n",
    "\n",
    "def min_funtion(arr):\n",
    "    n = len_function(arr)\n",
    "    lowest = 0\n",
    "    for i in range(n):\n",
    "        if arr[i] < arr[lowest]:\n",
    "            arr[lowest] = arr[i]\n",
    "    return arr[lowest]\n",
    "\n",
    "# print(min_funtion(arr))\n",
    "# print(min(arr))\n",
    "\n",
    "def sum_function(arr):\n",
    "    n = len_function(arr)\n",
    "    count = 0\n",
    "    for i in range(n):\n",
    "        count += arr[i]\n",
    "    return count\n",
    "# print(sum_function(arr))\n",
    "# print(sum(arr))\n",
    "\n",
    "def reverse_function(arr):\n",
    "    n = len_function(arr)\n",
    "    for i in range(int(n/2)):\n",
    "        if arr[i] > arr[i+1]:\n",
    "            temp = arr[i]\n",
    "            arr[i] = arr[n-i-1]\n",
    "            arr[n-i-1] = temp\n",
    "    return arr\n",
    "# print(reverse_function(arr))\n",
    "# print(arr.reverse()) \n",
    "\n",
    "def reverse_slice(arr):\n",
    "    return arr[::-1]\n",
    "\n",
    "# reverse_slice(arr)\n",
    "\n",
    "def sorted_function(arr):\n",
    "    n = len_function(arr)\n",
    "    for i in range(n):\n",
    "        flag = True\n",
    "        for j in range(n-i-1):\n",
    "            if arr[j] > arr[j+1]:\n",
    "                temp = arr[j]\n",
    "                arr[j] = arr[j+1]\n",
    "                arr[j+1] = temp\n",
    "        flag = False\n",
    "    return arr\n",
    "\n",
    "# print(sorted_function(arr))\n",
    "# print(sorted(arr))\n",
    "def index_Method(arr,id):\n",
    "    n = len_function(arr)\n",
    "    for i in range(n):\n",
    "        if arr[i] == arr[id]:\n",
    "            print(i)\n",
    "\n",
    "def remove_Method(arr):\n",
    "    for i in arr:\n",
    "        if i == '5':\n",
    "            print(i)\n",
    "\n",
    "print(remove_Method(arr))\n",
    "        \n",
    "\n",
    "y = [2,5j,6]\n",
    "y.sort()\n",
    "print(y)\n",
    "\n",
    "\n",
    "\n"
   ]
  },
  {
   "cell_type": "code",
   "execution_count": 25,
   "metadata": {},
   "outputs": [
    {
     "name": "stdout",
     "output_type": "stream",
     "text": [
      "512 64 512\n"
     ]
    }
   ],
   "source": [
    "print(2**(3**2),(2**3)**2,(2**3)**3)"
   ]
  },
  {
   "cell_type": "code",
   "execution_count": 26,
   "metadata": {},
   "outputs": [
    {
     "name": "stdout",
     "output_type": "stream",
     "text": [
      "[1, 3, 6, 10]\n"
     ]
    }
   ],
   "source": [
    "a = [1,2,3,4]\n",
    "b = [sum(a[0:x+1]) for x in range(0,len(a))]\n",
    "print(b)"
   ]
  },
  {
   "cell_type": "code",
   "execution_count": 27,
   "metadata": {},
   "outputs": [
    {
     "name": "stdout",
     "output_type": "stream",
     "text": [
      "[0, 2, 3, 4, 5]\n"
     ]
    }
   ],
   "source": [
    "arr = [1,2,3,4,5]\n",
    "arr2 = arr\n",
    "arr2[0] = 0\n",
    "print(arr)\n"
   ]
  },
  {
   "cell_type": "code",
   "execution_count": 28,
   "metadata": {},
   "outputs": [
    {
     "name": "stdout",
     "output_type": "stream",
     "text": [
      "wellcome to turing\n"
     ]
    }
   ],
   "source": [
    "t = '%(a)s %(b)s %(c)s'\n",
    "print(t%dict(a = 'wellcome',b = 'to' ,c ='turing'))"
   ]
  },
  {
   "cell_type": "code",
   "execution_count": 29,
   "metadata": {},
   "outputs": [
    {
     "name": "stdout",
     "output_type": "stream",
     "text": [
      "wellcome-to-turing\n"
     ]
    }
   ],
   "source": [
    "arr = ['wellcome','to','turing']\n",
    "print('-'.join(arr))"
   ]
  },
  {
   "cell_type": "code",
   "execution_count": 30,
   "metadata": {},
   "outputs": [
    {
     "name": "stdout",
     "output_type": "stream",
     "text": [
      "['t', 'u', 'r', 'i', 'n', 'g']\n"
     ]
    }
   ],
   "source": [
    "print([i.lower() for i in 'TURING'])"
   ]
  },
  {
   "cell_type": "code",
   "execution_count": 31,
   "metadata": {},
   "outputs": [],
   "source": [
    "class fruit(object):\n",
    "    \"\"\"this my first class docstring\"\"\"\n",
    "    pass"
   ]
  },
  {
   "cell_type": "code",
   "execution_count": 33,
   "metadata": {},
   "outputs": [
    {
     "data": {
      "text/plain": [
       "'this my first class docstring'"
      ]
     },
     "execution_count": 33,
     "metadata": {},
     "output_type": "execute_result"
    }
   ],
   "source": [
    "fruit().__doc__"
   ]
  },
  {
   "cell_type": "code",
   "execution_count": 36,
   "metadata": {},
   "outputs": [],
   "source": [
    "class fruit(object):\n",
    "    \"\"\"this is my first class\"\"\"\n",
    "    color = \"red\"\n",
    "    def sayhello(self):\n",
    "        print(\"hello\")"
   ]
  },
  {
   "cell_type": "code",
   "execution_count": 38,
   "metadata": {},
   "outputs": [
    {
     "name": "stdout",
     "output_type": "stream",
     "text": [
      "hello\n"
     ]
    }
   ],
   "source": [
    "co = fruit()\n",
    "co.color\n",
    "co.sayhello()"
   ]
  },
  {
   "cell_type": "code",
   "execution_count": 5,
   "metadata": {},
   "outputs": [
    {
     "name": "stdout",
     "output_type": "stream",
     "text": [
      "sayhello\n"
     ]
    },
    {
     "data": {
      "text/plain": [
       "<__main__.fruit at 0x27f17351940>"
      ]
     },
     "execution_count": 5,
     "metadata": {},
     "output_type": "execute_result"
    }
   ],
   "source": [
    "class fruit(object):\n",
    "    \"\"\"class function is defined\"\"\"\n",
    "    print(\"sayhello\")\n",
    "\n",
    "ff = fruit()\n",
    "ff"
   ]
  },
  {
   "cell_type": "code",
   "execution_count": 9,
   "metadata": {},
   "outputs": [
    {
     "ename": "TypeError",
     "evalue": "sayehllo() takes 1 positional argument but 2 were given",
     "output_type": "error",
     "traceback": [
      "\u001b[1;31m---------------------------------------------------------------------------\u001b[0m",
      "\u001b[1;31mTypeError\u001b[0m                                 Traceback (most recent call last)",
      "\u001b[1;32m~\\AppData\\Local\\Temp/ipykernel_6080/4049771752.py\u001b[0m in \u001b[0;36m<module>\u001b[1;34m\u001b[0m\n\u001b[0;32m      7\u001b[0m \u001b[0mgrand\u001b[0m \u001b[1;33m=\u001b[0m \u001b[0mfruit\u001b[0m\u001b[1;33m(\u001b[0m\u001b[1;33m)\u001b[0m\u001b[1;33m\u001b[0m\u001b[1;33m\u001b[0m\u001b[0m\n\u001b[0;32m      8\u001b[0m \u001b[0mgrand\u001b[0m\u001b[1;33m.\u001b[0m\u001b[0mcolor\u001b[0m\u001b[1;33m\u001b[0m\u001b[1;33m\u001b[0m\u001b[0m\n\u001b[1;32m----> 9\u001b[1;33m \u001b[0mgrand\u001b[0m\u001b[1;33m.\u001b[0m\u001b[0msayehllo\u001b[0m\u001b[1;33m(\u001b[0m\u001b[1;34m'red'\u001b[0m\u001b[1;33m)\u001b[0m\u001b[1;33m\u001b[0m\u001b[1;33m\u001b[0m\u001b[0m\n\u001b[0m",
      "\u001b[1;31mTypeError\u001b[0m: sayehllo() takes 1 positional argument but 2 were given"
     ]
    }
   ],
   "source": [
    "class fruit(object):\n",
    "    \"\"\"this class instance of fruits\"\"\"\n",
    "    color = ''\n",
    "    def sayehllo(self):\n",
    "        print(\"hello\")\n",
    "\n",
    "grand = fruit()\n",
    "grand.color\n",
    "grand.sayehllo('red')"
   ]
  },
  {
   "cell_type": "code",
   "execution_count": 15,
   "metadata": {},
   "outputs": [
    {
     "name": "stdout",
     "output_type": "stream",
     "text": [
      "myname\n",
      "hello\n",
      "myname\n",
      "hello\n"
     ]
    }
   ],
   "source": [
    "class try1:\n",
    "    def mymehtod(self):\n",
    "        def sayhello():\n",
    "            print(\"hello\")\n",
    "        print(\"myname\")\n",
    "        sayhello()\n",
    "    mymehtod('self')\n",
    "ff = try1()\n",
    "ff.mymehtod()\n"
   ]
  },
  {
   "cell_type": "code",
   "execution_count": 17,
   "metadata": {},
   "outputs": [
    {
     "name": "stdout",
     "output_type": "stream",
     "text": [
      "hello\n"
     ]
    }
   ],
   "source": [
    "orange = fruit()\n",
    "orange.color\n",
    "orange.sayehllo()"
   ]
  },
  {
   "cell_type": "code",
   "execution_count": 19,
   "metadata": {},
   "outputs": [
    {
     "name": "stdout",
     "output_type": "stream",
     "text": [
      "i am size 4\n"
     ]
    }
   ],
   "source": [
    "class fruit(object):\n",
    "    def mymthod(self,x):\n",
    "        print(f\"i am size {x}\")\n",
    "\n",
    "orange = fruit()\n",
    "orange.mymthod(4)"
   ]
  },
  {
   "cell_type": "code",
   "execution_count": 20,
   "metadata": {},
   "outputs": [
    {
     "name": "stdout",
     "output_type": "stream",
     "text": [
      "color is red and size of 15\n"
     ]
    }
   ],
   "source": [
    "class fruit(object):\n",
    "    \"\"\"this class define itself\"\"\"\n",
    "    def __init__(self,color , size):\n",
    "        self.color = color\n",
    "        self.size = size\n",
    "\n",
    "    def display(self):\n",
    "        print(f\"color is {self.color} and size of {self.size}\")\n",
    "\n",
    "\n",
    "orange = fruit('red',15)\n",
    "orange.color\n",
    "orange.size\n",
    "orange.display()"
   ]
  },
  {
   "cell_type": "code",
   "execution_count": 3,
   "metadata": {},
   "outputs": [
    {
     "name": "stdout",
     "output_type": "stream",
     "text": [
      "hanuman@0\n"
     ]
    }
   ],
   "source": [
    "class Myclass(object):\n",
    "    number = 0\n",
    "    name = 'hanuman'\n",
    "\n",
    "def main():\n",
    "    me = Myclass()\n",
    "    me.number\n",
    "    me.name\n",
    "    print(me.name +'@'+ str(me.number))\n",
    "\n",
    "if __name__=='__main__':\n",
    "    main()\n"
   ]
  },
  {
   "cell_type": "code",
   "execution_count": 5,
   "metadata": {},
   "outputs": [
    {
     "name": "stdout",
     "output_type": "stream",
     "text": [
      "yallammadevi,155523669854785\n"
     ]
    }
   ],
   "source": [
    "class My_class(object):\n",
    "    name = \"yallammadevi\"\n",
    "    age = 155523669854785\n",
    "\n",
    "def main():\n",
    "    me = My_class()\n",
    "    print(me.name+ ',' + str(me.age))\n",
    "\n",
    "\n",
    "if __name__=='__main__':\n",
    "    main()"
   ]
  },
  {
   "cell_type": "code",
   "execution_count": 9,
   "metadata": {},
   "outputs": [
    {
     "name": "stdout",
     "output_type": "stream",
     "text": [
      "18,21\n"
     ]
    }
   ],
   "source": [
    "class VectorD(object):\n",
    "    def __init__(self,x,y):\n",
    "        self.x = x\n",
    "        self.y = y\n",
    "\n",
    "def main():\n",
    "    vc = VectorD(18,21)\n",
    "    print(str(vc.x) + ',' + str(vc.y))\n",
    "\n",
    "if __name__== '__main__':\n",
    "    main()"
   ]
  },
  {
   "cell_type": "code",
   "execution_count": 13,
   "metadata": {},
   "outputs": [
    {
     "name": "stdout",
     "output_type": "stream",
     "text": [
      "yallammadevi\n",
      "81\n"
     ]
    }
   ],
   "source": [
    "class super_class(object):\n",
    "    def __init__(self,name,age):\n",
    "        self.name = name\n",
    "        self.age = age\n",
    "\n",
    "class derived_class(super_class):\n",
    "    def ___init__(self,name,age):\n",
    "        super().__init__(name,age)\n",
    "\n",
    "\n",
    "def main():\n",
    "    \n",
    "    DD = derived_class('yallammadevi',81)\n",
    "    print(DD.name)\n",
    "    print(DD.age)\n",
    "\n",
    "if __name__=='__main__':\n",
    "    main()"
   ]
  },
  {
   "cell_type": "code",
   "execution_count": 15,
   "metadata": {},
   "outputs": [
    {
     "name": "stdout",
     "output_type": "stream",
     "text": [
      "i\n",
      "v\n",
      "e\n",
      "d\n",
      "a\n",
      "m\n",
      "m\n",
      "a\n",
      "l\n",
      "l\n",
      "a\n",
      "y\n"
     ]
    }
   ],
   "source": [
    "def reverse(data):\n",
    "    for i in range(len(data)-1,-1,-1):\n",
    "        yield data[i]\n",
    "\n",
    "def main():\n",
    "    rev = reverse('yallammadevi')\n",
    "    for char in rev:\n",
    "        print(char)\n",
    "\n",
    "if __name__=='__main__':\n",
    "    main()\n"
   ]
  },
  {
   "cell_type": "code",
   "execution_count": 16,
   "metadata": {},
   "outputs": [],
   "source": [
    "# oops main concept\n",
    "# 1 class , object , inheritance,encapsulation,data abstraction,polymorphism\n",
    "class dog:\n",
    "    pass"
   ]
  },
  {
   "cell_type": "code",
   "execution_count": 17,
   "metadata": {},
   "outputs": [],
   "source": [
    "obj = dog()"
   ]
  },
  {
   "cell_type": "code",
   "execution_count": 20,
   "metadata": {},
   "outputs": [
    {
     "name": "stdout",
     "output_type": "stream",
     "text": [
      "hanauman\n",
      "Manjunath\n",
      "hanauman\n"
     ]
    }
   ],
   "source": [
    "class Dog(object):\n",
    "    attr = 'hanauman'\n",
    "    def __init__(self,name):\n",
    "        self.name = name\n",
    "\n",
    "def main():\n",
    "    DD = Dog('Manjunath')\n",
    "    print(DD.attr)\n",
    "    print(DD.name)\n",
    "    print(DD.__class__.attr)\n",
    "\n",
    "if __name__=='__main__':\n",
    "    main()"
   ]
  },
  {
   "cell_type": "code",
   "execution_count": 21,
   "metadata": {},
   "outputs": [
    {
     "name": "stdout",
     "output_type": "stream",
     "text": [
      "Manjunath\n",
      "81\n"
     ]
    }
   ],
   "source": [
    "class student(object):\n",
    "    name = 'Manjunath'\n",
    "    age = 81\n",
    "obj = student()\n",
    "print(obj.name)\n",
    "print(obj.age)"
   ]
  },
  {
   "cell_type": "code",
   "execution_count": 23,
   "metadata": {},
   "outputs": [
    {
     "name": "stdout",
     "output_type": "stream",
     "text": [
      "my name is hanuman\n",
      "class name is yallamma\n",
      "my name is malingray\n",
      "class name is yallamma\n"
     ]
    }
   ],
   "source": [
    "class Dog(object):\n",
    "    attr = 'yallamma'\n",
    "    def __init__(self,name):\n",
    "        self.name = name\n",
    "\n",
    "    def speack(self):\n",
    "        print(f\"my name is {self.name}\")\n",
    "        print(f\"class name is {self.attr}\")\n",
    "\n",
    "def main():\n",
    "    DD = Dog('hanuman')\n",
    "    DD.speack()\n",
    "    DD1 = Dog('malingray')\n",
    "    DD1.speack()\n",
    "\n",
    "if __name__=='__main__':\n",
    "    main()\n"
   ]
  },
  {
   "cell_type": "code",
   "execution_count": 34,
   "metadata": {},
   "outputs": [
    {
     "name": "stdout",
     "output_type": "stream",
     "text": [
      "emp salary is 250000\n",
      "emp post is senior software engineer\n",
      "manjunath\n",
      "1001\n",
      "student nam is manjunath\n",
      "student id_number 1001\n"
     ]
    }
   ],
   "source": [
    "class student(object):\n",
    "    \n",
    "    def __init__(self,name , id_number):\n",
    "        self.name = name\n",
    "        self.id_number = id_number\n",
    "\n",
    "    def display(self):\n",
    "        print(self.name)\n",
    "        print(self.id_number)\n",
    "    \n",
    "    def Details1(self):\n",
    "        print(f\"student nam is {self.name}\")\n",
    "        print(f\"student id_number {self.id_number}\")\n",
    "\n",
    "def main():\n",
    "    # st = student('Manjuanth',1001)\n",
    "    # st.display()\n",
    "    # st.Details()\n",
    "    st = Emplyoee('manjunath',1001,250000,'senior software engineer')\n",
    "    st.Details()\n",
    "    st.display()\n",
    "    st.Details1()\n",
    "    \n",
    "\n",
    "\n",
    "class Emplyoee(student):\n",
    "    def __init__(self,name,id_number,salary,post):\n",
    "        self.post = post\n",
    "        self.salary = salary\n",
    "        student.__init__(self,name,id_number)\n",
    "\n",
    "    def Details(self):\n",
    "        print(f\"emp salary is {self.salary}\")\n",
    "        print(f\"emp post is {self.post}\")\n",
    "\n",
    "if __name__=='__main__':\n",
    "    main()"
   ]
  },
  {
   "cell_type": "code",
   "execution_count": 36,
   "metadata": {},
   "outputs": [
    {
     "name": "stdout",
     "output_type": "stream",
     "text": [
      "they are many birds are flying\n",
      "flying is faster than anything\n",
      "they are many birds are flying\n",
      "flying is faster than anything\n",
      "they are many birds are flying\n",
      "flying is faster than anything\n"
     ]
    }
   ],
   "source": [
    "class Bird(object):\n",
    "    def intro(self):\n",
    "        print(\"they are many birds are flying\")\n",
    "    def flight(self):\n",
    "        print(\"flying is faster than anything\")\n",
    "class ostrich(Bird):\n",
    "    def flight(self):\n",
    "        print(\"flying is faster than anything\")\n",
    "\n",
    "class smash(ostrich):\n",
    "    def flight(self):\n",
    "        print(\"flying is faster than anything\")\n",
    "\n",
    "def main():\n",
    "\n",
    "    ord_Bird = Bird()\n",
    "    ord_ostrich = ostrich()\n",
    "    ord_smash = smash()\n",
    "\n",
    "    ord_Bird.intro()\n",
    "    ord_Bird.flight()\n",
    "\n",
    "    ord_ostrich.intro()\n",
    "    ord_ostrich.flight()\n",
    "\n",
    "    ord_smash.intro()\n",
    "    ord_smash.flight()\n",
    "\n",
    "if __name__=='__main__':\n",
    "    main()\n"
   ]
  },
  {
   "cell_type": "code",
   "execution_count": 42,
   "metadata": {},
   "outputs": [
    {
     "name": "stdout",
     "output_type": "stream",
     "text": [
      "yallammadevi\n"
     ]
    }
   ],
   "source": [
    "class Base(object):\n",
    "    def __init__(self):\n",
    "        self.a = 'yallammadevi'\n",
    "        self.__c = 'kannur'\n",
    "\n",
    "class Derived(Base):\n",
    "    def __init__(self):\n",
    "        Base.__init__(self)\n",
    "        print(\"Calling private member of base class: \")\n",
    "        print(self.__c)\n",
    "\n",
    "\n",
    "def main():\n",
    "    obj11 = Base()\n",
    "    print(obj11.a)\n",
    "    \n",
    "\n",
    "if __name__ == '__main__':\n",
    "    main()\n",
    "    \n"
   ]
  },
  {
   "cell_type": "code",
   "execution_count": 47,
   "metadata": {},
   "outputs": [
    {
     "name": "stdout",
     "output_type": "stream",
     "text": [
      "19\n"
     ]
    }
   ],
   "source": [
    "class My_class(object):\n",
    "\n",
    "    __hiddendeatial = 1\n",
    "    def show(self,ele):\n",
    "        self.__hiddendeatial += ele\n",
    "        print(self.__hiddendeatial)\n",
    "    \n",
    "def main():\n",
    "    My = My_class()\n",
    "    My.show(18)\n",
    "\n",
    "\n",
    "if __name__ == '__main__':\n",
    "    main()\n"
   ]
  },
  {
   "cell_type": "code",
   "execution_count": 49,
   "metadata": {},
   "outputs": [
    {
     "name": "stdout",
     "output_type": "stream",
     "text": [
      "19\n"
     ]
    },
    {
     "ename": "AttributeError",
     "evalue": "'hidden_class' object has no attribute '__hidden_class'",
     "output_type": "error",
     "traceback": [
      "\u001b[1;31m---------------------------------------------------------------------------\u001b[0m",
      "\u001b[1;31mAttributeError\u001b[0m                            Traceback (most recent call last)",
      "\u001b[1;32m~\\AppData\\Local\\Temp/ipykernel_9944/2106599287.py\u001b[0m in \u001b[0;36m<module>\u001b[1;34m\u001b[0m\n\u001b[0;32m     14\u001b[0m \u001b[1;33m\u001b[0m\u001b[0m\n\u001b[0;32m     15\u001b[0m \u001b[1;32mif\u001b[0m \u001b[0m__name__\u001b[0m \u001b[1;33m==\u001b[0m \u001b[1;34m'__main__'\u001b[0m\u001b[1;33m:\u001b[0m\u001b[1;33m\u001b[0m\u001b[1;33m\u001b[0m\u001b[0m\n\u001b[1;32m---> 16\u001b[1;33m     \u001b[0mmain\u001b[0m\u001b[1;33m(\u001b[0m\u001b[1;33m)\u001b[0m\u001b[1;33m\u001b[0m\u001b[1;33m\u001b[0m\u001b[0m\n\u001b[0m\u001b[0;32m     17\u001b[0m \u001b[1;33m\u001b[0m\u001b[0m\n",
      "\u001b[1;32m~\\AppData\\Local\\Temp/ipykernel_9944/2106599287.py\u001b[0m in \u001b[0;36mmain\u001b[1;34m()\u001b[0m\n\u001b[0;32m     10\u001b[0m     \u001b[0mhidde\u001b[0m \u001b[1;33m=\u001b[0m \u001b[0mhidden_class\u001b[0m\u001b[1;33m(\u001b[0m\u001b[1;33m)\u001b[0m\u001b[1;33m\u001b[0m\u001b[1;33m\u001b[0m\u001b[0m\n\u001b[0;32m     11\u001b[0m     \u001b[0mhidde\u001b[0m\u001b[1;33m.\u001b[0m\u001b[0mshow\u001b[0m\u001b[1;33m(\u001b[0m\u001b[1;36m18\u001b[0m\u001b[1;33m)\u001b[0m\u001b[1;33m\u001b[0m\u001b[1;33m\u001b[0m\u001b[0m\n\u001b[1;32m---> 12\u001b[1;33m     \u001b[0mprint\u001b[0m\u001b[1;33m(\u001b[0m\u001b[0mhidde\u001b[0m\u001b[1;33m.\u001b[0m\u001b[0m__hidden_class\u001b[0m\u001b[1;33m)\u001b[0m\u001b[1;33m\u001b[0m\u001b[1;33m\u001b[0m\u001b[0m\n\u001b[0m\u001b[0;32m     13\u001b[0m \u001b[1;33m\u001b[0m\u001b[0m\n\u001b[0;32m     14\u001b[0m \u001b[1;33m\u001b[0m\u001b[0m\n",
      "\u001b[1;31mAttributeError\u001b[0m: 'hidden_class' object has no attribute '__hidden_class'"
     ]
    }
   ],
   "source": [
    "class hidden_class(object):\n",
    "    __hidden_class = 1\n",
    "\n",
    "    def show(self,increment):\n",
    "        self.__hidden_class += increment\n",
    "        print(self.__hidden_class)\n",
    "\n",
    "\n",
    "def main():\n",
    "    hidde = hidden_class()\n",
    "    hidde.show(18)\n",
    "    print(hidde.__hidden_class)\n",
    "\n",
    "\n",
    "if __name__ == '__main__':\n",
    "    main()\n",
    "    "
   ]
  },
  {
   "cell_type": "code",
   "execution_count": 50,
   "metadata": {},
   "outputs": [
    {
     "ename": "AttributeError",
     "evalue": "'hidd' object has no attribute '__hidden_clss'",
     "output_type": "error",
     "traceback": [
      "\u001b[1;31m---------------------------------------------------------------------------\u001b[0m",
      "\u001b[1;31mAttributeError\u001b[0m                            Traceback (most recent call last)",
      "\u001b[1;32m~\\AppData\\Local\\Temp/ipykernel_9944/1691155221.py\u001b[0m in \u001b[0;36m<module>\u001b[1;34m\u001b[0m\n\u001b[0;32m      8\u001b[0m \u001b[1;33m\u001b[0m\u001b[0m\n\u001b[0;32m      9\u001b[0m \u001b[1;32mif\u001b[0m \u001b[0m__name__\u001b[0m \u001b[1;33m==\u001b[0m \u001b[1;34m'__main__'\u001b[0m\u001b[1;33m:\u001b[0m\u001b[1;33m\u001b[0m\u001b[1;33m\u001b[0m\u001b[0m\n\u001b[1;32m---> 10\u001b[1;33m     \u001b[0mmain\u001b[0m\u001b[1;33m(\u001b[0m\u001b[1;33m)\u001b[0m\u001b[1;33m\u001b[0m\u001b[1;33m\u001b[0m\u001b[0m\n\u001b[0m",
      "\u001b[1;32m~\\AppData\\Local\\Temp/ipykernel_9944/1691155221.py\u001b[0m in \u001b[0;36mmain\u001b[1;34m()\u001b[0m\n\u001b[0;32m      4\u001b[0m \u001b[1;32mdef\u001b[0m \u001b[0mmain\u001b[0m\u001b[1;33m(\u001b[0m\u001b[1;33m)\u001b[0m\u001b[1;33m:\u001b[0m\u001b[1;33m\u001b[0m\u001b[1;33m\u001b[0m\u001b[0m\n\u001b[0;32m      5\u001b[0m     \u001b[0mh\u001b[0m \u001b[1;33m=\u001b[0m \u001b[0mhidd\u001b[0m\u001b[1;33m(\u001b[0m\u001b[1;33m)\u001b[0m\u001b[1;33m\u001b[0m\u001b[1;33m\u001b[0m\u001b[0m\n\u001b[1;32m----> 6\u001b[1;33m     \u001b[0mprint\u001b[0m\u001b[1;33m(\u001b[0m\u001b[0mh\u001b[0m\u001b[1;33m.\u001b[0m\u001b[0m__hidden_clss\u001b[0m\u001b[1;33m)\u001b[0m\u001b[1;33m\u001b[0m\u001b[1;33m\u001b[0m\u001b[0m\n\u001b[0m\u001b[0;32m      7\u001b[0m \u001b[1;33m\u001b[0m\u001b[0m\n\u001b[0;32m      8\u001b[0m \u001b[1;33m\u001b[0m\u001b[0m\n",
      "\u001b[1;31mAttributeError\u001b[0m: 'hidd' object has no attribute '__hidden_clss'"
     ]
    }
   ],
   "source": [
    "class hidd(object):\n",
    "    __hidden_clss = 1\n",
    "\n",
    "def main():\n",
    "    h = hidd()\n",
    "    print(h.__hidden_clss)\n",
    "\n",
    "\n",
    "if __name__ == '__main__':\n",
    "    main()"
   ]
  },
  {
   "cell_type": "code",
   "execution_count": 51,
   "metadata": {},
   "outputs": [
    {
     "ename": "AttributeError",
     "evalue": "'hidd' object has no attribute '__hidden_clss'",
     "output_type": "error",
     "traceback": [
      "\u001b[1;31m---------------------------------------------------------------------------\u001b[0m",
      "\u001b[1;31mAttributeError\u001b[0m                            Traceback (most recent call last)",
      "\u001b[1;32m~\\AppData\\Local\\Temp/ipykernel_9944/131757916.py\u001b[0m in \u001b[0;36m<module>\u001b[1;34m\u001b[0m\n\u001b[0;32m     13\u001b[0m \u001b[1;33m\u001b[0m\u001b[0m\n\u001b[0;32m     14\u001b[0m \u001b[1;32mif\u001b[0m \u001b[0m__name__\u001b[0m \u001b[1;33m==\u001b[0m \u001b[1;34m'__main__'\u001b[0m\u001b[1;33m:\u001b[0m\u001b[1;33m\u001b[0m\u001b[1;33m\u001b[0m\u001b[0m\n\u001b[1;32m---> 15\u001b[1;33m     \u001b[0mmain\u001b[0m\u001b[1;33m(\u001b[0m\u001b[1;33m)\u001b[0m\u001b[1;33m\u001b[0m\u001b[1;33m\u001b[0m\u001b[0m\n\u001b[0m",
      "\u001b[1;32m~\\AppData\\Local\\Temp/ipykernel_9944/1691155221.py\u001b[0m in \u001b[0;36mmain\u001b[1;34m()\u001b[0m\n\u001b[0;32m      4\u001b[0m \u001b[1;32mdef\u001b[0m \u001b[0mmain\u001b[0m\u001b[1;33m(\u001b[0m\u001b[1;33m)\u001b[0m\u001b[1;33m:\u001b[0m\u001b[1;33m\u001b[0m\u001b[1;33m\u001b[0m\u001b[0m\n\u001b[0;32m      5\u001b[0m     \u001b[0mh\u001b[0m \u001b[1;33m=\u001b[0m \u001b[0mhidd\u001b[0m\u001b[1;33m(\u001b[0m\u001b[1;33m)\u001b[0m\u001b[1;33m\u001b[0m\u001b[1;33m\u001b[0m\u001b[0m\n\u001b[1;32m----> 6\u001b[1;33m     \u001b[0mprint\u001b[0m\u001b[1;33m(\u001b[0m\u001b[0mh\u001b[0m\u001b[1;33m.\u001b[0m\u001b[0m__hidden_clss\u001b[0m\u001b[1;33m)\u001b[0m\u001b[1;33m\u001b[0m\u001b[1;33m\u001b[0m\u001b[0m\n\u001b[0m\u001b[0;32m      7\u001b[0m \u001b[1;33m\u001b[0m\u001b[0m\n\u001b[0;32m      8\u001b[0m \u001b[1;33m\u001b[0m\u001b[0m\n",
      "\u001b[1;31mAttributeError\u001b[0m: 'hidd' object has no attribute '__hidden_clss'"
     ]
    }
   ],
   "source": [
    "class hidden(object):\n",
    "    __hidden_class = 1\n",
    "\n",
    "    def show(self):\n",
    "        print(self.__hidden_class)\n",
    "\n",
    "\n",
    "\n",
    "def mian():\n",
    "    h = hidden()\n",
    "    h.show()\n",
    "\n",
    "\n",
    "if __name__ == '__main__':\n",
    "    main()"
   ]
  },
  {
   "cell_type": "code",
   "execution_count": 54,
   "metadata": {},
   "outputs": [
    {
     "name": "stdout",
     "output_type": "stream",
     "text": [
      "a and b are string 18  and 63\n"
     ]
    }
   ],
   "source": [
    "class Test(object):\n",
    "    def __init__(self,a,b):\n",
    "        self.a = a\n",
    "        self.b = b\n",
    "\n",
    "    def __str__(self):\n",
    "        return (\"a and b are string %s  and %s\" % (self.a , self.b))\n",
    "\n",
    "\n",
    "def main():\n",
    "     t = Test(18,63)\n",
    "     print(t)\n",
    "\n",
    "if __name__ == '__main__':\n",
    "    main()\n",
    "     "
   ]
  },
  {
   "cell_type": "code",
   "execution_count": 55,
   "metadata": {},
   "outputs": [
    {
     "name": "stdout",
     "output_type": "stream",
     "text": [
      "a:18 and b:63\n"
     ]
    }
   ],
   "source": [
    "class Test(object):\n",
    "    def __init__(self ,a ,b):\n",
    "        self.a = a \n",
    "        self.b = b\n",
    "\n",
    "    def __repr__(self):\n",
    "        return \"a:%s and b:%s\"%(self.a,self.b)\n",
    "\n",
    "def mian():\n",
    "    t = Test(18,45)\n",
    "    print(t)\n",
    "\n",
    "if __name__=='__main__':\n",
    "    main()"
   ]
  },
  {
   "cell_type": "code",
   "execution_count": 57,
   "metadata": {},
   "outputs": [
    {
     "name": "stdout",
     "output_type": "stream",
     "text": [
      "<__main__.Test object at 0x000002864175EE20>\n"
     ]
    }
   ],
   "source": [
    "class Test(object):\n",
    "    def __init__(self,a,b):\n",
    "        self.a = a\n",
    "        self.b = b\n",
    "\n",
    "    \n",
    "def main():\n",
    "    t = Test(18,9)\n",
    "    print(t)\n",
    "\n",
    "if __name__ == '__main__':\n",
    "    main()"
   ]
  },
  {
   "cell_type": "code",
   "execution_count": 58,
   "metadata": {},
   "outputs": [
    {
     "name": "stdout",
     "output_type": "stream",
     "text": [
      "first variable a :18 and second variable b :108\n"
     ]
    }
   ],
   "source": [
    "class Test(object):\n",
    "    def __init__(self,a,b):\n",
    "        self.a = a\n",
    "        self.b = b\n",
    "\n",
    "    def __str__(self):\n",
    "        return \"first variable a :%s and second variable b :%s\"%(self.a , self.b)\n",
    "\n",
    "    \n",
    "def main():\n",
    "    t = Test(18,108)\n",
    "    print(t)\n",
    "\n",
    "\n",
    "if __name__ == '__main__':\n",
    "    main()"
   ]
  },
  {
   "cell_type": "code",
   "execution_count": 66,
   "metadata": {},
   "outputs": [],
   "source": [
    "class Test(object):\n",
    "    __hidden_variable = 1\n",
    "    def __init__(self,a,b):\n",
    "        self.a = a\n",
    "        self.b = b\n",
    "\n",
    "    def __repr__(self):\n",
    "        return \"a:%s aand b:%s\" %(self.a , self.b)\n",
    "\n",
    "    def __str__(self):\n",
    "        return \"a:%s and b:%s\"%(self.a , self.b)\n",
    "\n",
    "    \n",
    "\n",
    "    def show(self,ele):\n",
    "        self.__hidden_variable += ele\n",
    "        print(self.__hidden_variable)\n",
    "\n",
    "\n",
    "    \n",
    "\n",
    "\n",
    "def main():\n",
    "    t = Test(18,108)\n",
    "    t.show()\n",
    "    print(t.__hidden_variable)\n",
    "    # t.show(1)\n",
    "    # print(t)\n",
    "\n",
    "if __name__=='__man__':\n",
    "    main()\n",
    "\n",
    "\n",
    "\n",
    "    "
   ]
  },
  {
   "cell_type": "code",
   "execution_count": 72,
   "metadata": {},
   "outputs": [
    {
     "name": "stdout",
     "output_type": "stream",
     "text": [
      "a:18 and b:45\n",
      "a:18 and b:45\n"
     ]
    }
   ],
   "source": [
    "class Test1(object):\n",
    "    def __init__(self,a,b):\n",
    "        self.a = a\n",
    "        self.b = b\n",
    "\n",
    "    def __str__(self):\n",
    "        return \"a:%s and b:%s\"%(self.a,self.b)\n",
    "\n",
    "    def __repr__(self):\n",
    "        return \"a:%s and b:%s\"%(self.a , self.b)\n",
    "\n",
    "def mian1():\n",
    "    t = Test1(18,45)\n",
    "    print(t)\n",
    "    print(t)\n",
    "\n",
    "if __name__=='__main__':\n",
    "    mian1()"
   ]
  },
  {
   "cell_type": "code",
   "execution_count": 74,
   "metadata": {},
   "outputs": [
    {
     "name": "stdout",
     "output_type": "stream",
     "text": [
      "19\n",
      "a:18 and b:45\n"
     ]
    }
   ],
   "source": [
    "class Test2(object):\n",
    "    __hidden_variable = 1\n",
    "    def __init__(self,a,b):\n",
    "        self.a = a\n",
    "        self.b = b\n",
    "\n",
    "    def __str__(self):\n",
    "        return 'a:%s and b:%s' %(self.a,self.b)\n",
    "\n",
    "    def show2(self,ele):\n",
    "        self.__hidden_variable += ele\n",
    "        print(self.__hidden_variable)\n",
    "        \n",
    "def main2():\n",
    "    T = Test2(18,45)\n",
    "    T.show2(18)\n",
    "    print(T)\n",
    "\n",
    "if __name__ == '__main__':\n",
    "    main2()\n"
   ]
  },
  {
   "cell_type": "code",
   "execution_count": 80,
   "metadata": {},
   "outputs": [
    {
     "name": "stdout",
     "output_type": "stream",
     "text": [
      "manjunath True\n",
      "mahesh False\n"
     ]
    }
   ],
   "source": [
    "class Person(object):\n",
    "    def __init__(self,name):\n",
    "        self.name = name\n",
    "\n",
    "    def get_name(self):\n",
    "        return self.name\n",
    "\n",
    "\n",
    "    def is_employee(self):\n",
    "        return False\n",
    "\n",
    "class Employee1(Person):\n",
    "    \n",
    "    def is_employee(self):\n",
    "        return True\n",
    "\n",
    "def main3():\n",
    "    e = Employee1('manjunath')\n",
    "    print(e.get_name(),e.is_employee())\n",
    "    p = Person('mahesh')\n",
    "    print(p.get_name(),p.is_employee())\n",
    "\n",
    "if __name__ == '__main__':\n",
    "    main3()"
   ]
  },
  {
   "cell_type": "code",
   "execution_count": 81,
   "metadata": {},
   "outputs": [
    {
     "name": "stdout",
     "output_type": "stream",
     "text": [
      "False\n",
      "True\n",
      "True\n",
      "True\n"
     ]
    }
   ],
   "source": [
    "class Base:\n",
    "    pass\n",
    "class Derived(Base):\n",
    "    pass\n",
    "\n",
    "b = Base()\n",
    "d = Derived()\n",
    "\n",
    "print(issubclass(Base,Derived))\n",
    "print(issubclass(Derived,Base))\n",
    "\n",
    "print(isinstance(b,Base))\n",
    "print(isinstance(d,Derived))"
   ]
  },
  {
   "cell_type": "code",
   "execution_count": 83,
   "metadata": {},
   "outputs": [
    {
     "name": "stdout",
     "output_type": "stream",
     "text": [
      "derived\n",
      "manjunathmyself\n"
     ]
    }
   ],
   "source": [
    "class Base1(object):\n",
    "    def __init__(self):\n",
    "        self.str1 = \"manjunath\"\n",
    "\n",
    "    \n",
    "class Base2(object):\n",
    "    def __init__(self):\n",
    "        self.str2 = 'myself'\n",
    "\n",
    "\n",
    "class My_Derived(Base1,Base2):\n",
    "\n",
    "    def __init__(self):\n",
    "\n",
    "        Base1.__init__(self)\n",
    "        Base2.__init__(self)\n",
    "        # print(\"derived\")\n",
    "\n",
    "\n",
    "    def print_string(self):\n",
    "        print(self.str1 + ''+ self.str2)\n",
    "\n",
    "cd = My_Derived()\n",
    "cd.print_string()\n",
    "\n",
    "\n"
   ]
  },
  {
   "cell_type": "code",
   "execution_count": 86,
   "metadata": {},
   "outputs": [
    {
     "name": "stdout",
     "output_type": "stream",
     "text": [
      "someting\n",
      "None\n"
     ]
    }
   ],
   "source": [
    "class B(object):\n",
    "    pass\n",
    "class C(B):\n",
    "    pass\n",
    "\n",
    "class D(C):\n",
    "    def print_serve(self):\n",
    "        print(\"someting\")\n",
    "\n",
    "def main():\n",
    "    cd = D()\n",
    "    print(cd.print_serve())\n",
    "\n",
    "if __name__=='__main__':\n",
    "    main()"
   ]
  },
  {
   "cell_type": "code",
   "execution_count": 89,
   "metadata": {},
   "outputs": [
    {
     "name": "stdout",
     "output_type": "stream",
     "text": [
      "18 21\n"
     ]
    }
   ],
   "source": [
    "class Base1(object):\n",
    "    def __init__(self,x):\n",
    "        self.x = x\n",
    "\n",
    "class Base2(Base1):\n",
    "    def __init__(self,x,y):\n",
    "        Base1.x = x\n",
    "        self.y = y\n",
    "\n",
    "    def prinxy(self):\n",
    "        print(Base1.x,self.y)\n",
    "\n",
    "def main():\n",
    "    B = Base2(18,21)\n",
    "    B.prinxy()\n",
    "\n",
    "if __name__=='__main__':\n",
    "    main()"
   ]
  },
  {
   "cell_type": "code",
   "execution_count": 96,
   "metadata": {},
   "outputs": [
    {
     "name": "stdout",
     "output_type": "stream",
     "text": [
      "18 45\n"
     ]
    }
   ],
   "source": [
    "class Base3(object):\n",
    "    def __init__(self,x):\n",
    "        self.x = x\n",
    "\n",
    "class Derived3(Base3):\n",
    "    def __init__(self,x,y):\n",
    "        Base3.__init__(self,x)\n",
    "        self.y = y\n",
    "\n",
    "    def print_say(self):\n",
    "        print(self.x,self.y)\n",
    "\n",
    "def main():\n",
    "    DD = Derived3(18,45)\n",
    "    DD.print_say()\n",
    "\n",
    "\n",
    "if __name__ == '__main__':\n",
    "    main()\n",
    "\n",
    "    "
   ]
  },
  {
   "cell_type": "code",
   "execution_count": 103,
   "metadata": {},
   "outputs": [
    {
     "name": "stdout",
     "output_type": "stream",
     "text": [
      "27\n",
      "4\n"
     ]
    }
   ],
   "source": [
    "class Double(object):\n",
    "    def __init__(self,x):\n",
    "        self.x = x\n",
    "\n",
    "    def double_up(self):\n",
    "        return self.x**2\n",
    "\n",
    "\n",
    "class Triple(Double):\n",
    "    def __init__(self,x,y):\n",
    "        Double.__init__(self,x)\n",
    "        self.y = y\n",
    "\n",
    "    def Triple_up(self):\n",
    "        return self.y**3\n",
    "\n",
    "\n",
    "def main_Double():\n",
    "    T = Triple(2,3)\n",
    "    print(T.Triple_up())\n",
    "    print(T.double_up())\n",
    "\n",
    "\n",
    "\n",
    "if __name__ == '__main__':\n",
    "    main_Double()\n"
   ]
  },
  {
   "cell_type": "code",
   "execution_count": 107,
   "metadata": {},
   "outputs": [
    {
     "name": "stdout",
     "output_type": "stream",
     "text": [
      "<bound method Student.get_name of <__main__.Employee11 object at 0x00000286417F0A30>> True\n",
      "1001 True\n"
     ]
    }
   ],
   "source": [
    "class Student(object):\n",
    "    def __init__(self,name):\n",
    "        self.name = name\n",
    "\n",
    "    def get_name(self):\n",
    "        return self.name\n",
    "\n",
    "    def is_Employee(self):\n",
    "        return False\n",
    "\n",
    "\n",
    "class Employee11(Student):\n",
    "    def __init__(self,name , id):\n",
    "        super(Employee11,self).__init__(name)\n",
    "        self.id = id\n",
    "\n",
    "    def get_id(self):\n",
    "        return self.id\n",
    "\n",
    "    def is_Employee(self):\n",
    "        return True\n",
    "\n",
    "\n",
    "def Main_super():\n",
    "    E = Employee11('manjunath',1001)\n",
    "    print(E.get_name,E.is_Employee())\n",
    "    print(E.get_id(),E.is_Employee())\n",
    "\n",
    "\n",
    "if __name__ == '__main__':\n",
    "    Main_super()"
   ]
  },
  {
   "cell_type": "code",
   "execution_count": 108,
   "metadata": {},
   "outputs": [
    {
     "name": "stdout",
     "output_type": "stream",
     "text": [
      "8\n",
      "4\n"
     ]
    }
   ],
   "source": [
    "print(len(\"manjuant\"))\n",
    "print(len([18,45,66,81]))\n"
   ]
  },
  {
   "cell_type": "code",
   "execution_count": 109,
   "metadata": {},
   "outputs": [
    {
     "name": "stdout",
     "output_type": "stream",
     "text": [
      "24\n",
      "23\n"
     ]
    }
   ],
   "source": [
    "def add(x,y,z= 4):\n",
    "    return x+y+z\n",
    "\n",
    "print(add(18,2))\n",
    "print(add(18,2,3))\n",
    "\n"
   ]
  },
  {
   "cell_type": "code",
   "execution_count": 125,
   "metadata": {},
   "outputs": [
    {
     "name": "stdout",
     "output_type": "stream",
     "text": [
      "New Delhi is the capital of USA.\n",
      "None\n",
      "Hindi is the most widely spoken language of USA.\n",
      "None\n",
      "USA is a developing country.\n",
      "None\n"
     ]
    }
   ],
   "source": [
    "class India(object):\n",
    "    def __init__(self):\n",
    "\n",
    "        def Capital1(self):\n",
    "            return(\"New Delhi is the capital of India.\")\n",
    "\n",
    "        def language(self):\n",
    "            return(\"Hindi is the most widely spoken language of India.\")\n",
    "\n",
    "        def type(self):\n",
    "            return(\"India is a developing country.\")\n",
    "\n",
    "class USA(India):\n",
    "    def __init__(self):\n",
    "        # super(USA,self).__init__()\n",
    "        India.__init__(self)\n",
    "\n",
    "    def Capital(self):\n",
    "        print(\"New Delhi is the capital of USA.\")\n",
    "\n",
    "    def language(self):\n",
    "        print(\"Hindi is the most widely spoken language of USA.\")\n",
    "\n",
    "    def type(self):\n",
    "        print(\"USA is a developing country.\")\n",
    "\n",
    "def Main_poly():\n",
    "    U = USA()\n",
    "    print(U.Capital())\n",
    "    print(U.language())\n",
    "    print(U.type())\n",
    "    # print(U.Capital1())\n",
    "\n",
    "if __name__ == '__main__':\n",
    "    Main_poly()\n",
    "\n"
   ]
  },
  {
   "cell_type": "code",
   "execution_count": 128,
   "metadata": {},
   "outputs": [
    {
     "name": "stdout",
     "output_type": "stream",
     "text": [
      "None <bound method My_Employee.get_age of <__main__.My_Employee object at 0x00000286418527C0>>\n"
     ]
    }
   ],
   "source": [
    "class My_student(object):\n",
    "    def __init__(self,name):\n",
    "        self.name = name\n",
    "\n",
    "\n",
    "    def get_name(self):\n",
    "        self.name\n",
    "\n",
    "class My_Employee(My_student):\n",
    "    def __init__(self,name,age):\n",
    "        super(My_Employee,self).__init__(name)\n",
    "        self.age = age\n",
    "\n",
    "\n",
    "    def get_age(self):\n",
    "        return self.age\n",
    "\n",
    "\n",
    "def My_main():\n",
    "    E = My_Employee('manjunath',108)\n",
    "    print(E.get_name(),E.get_age)\n",
    "\n",
    "if __name__ == '__main__':\n",
    "    My_main()\n",
    "\n",
    "\n",
    "    "
   ]
  },
  {
   "cell_type": "code",
   "execution_count": 137,
   "metadata": {},
   "outputs": [
    {
     "name": "stdout",
     "output_type": "stream",
     "text": [
      "New Delhi is the capital of India.\n",
      "None\n",
      "Hindi is the most widely spoken language of India.\n",
      "None\n",
      "India is a developing country.\n",
      "None\n",
      "New Delhi is the capital of USA.\n",
      "None\n",
      "Hindi is the most widely spoken language of USA.\n",
      "None\n",
      "USA is a developing country.\n",
      "None\n"
     ]
    }
   ],
   "source": [
    "class India_to(): \n",
    "    def Capital(self):\n",
    "        print(\"New Delhi is the capital of India.\")\n",
    "\n",
    "    def language(self):\n",
    "        print(\"Hindi is the most widely spoken language of India.\")\n",
    "\n",
    "    def type(self):\n",
    "        print(\"India is a developing country.\")\n",
    "\n",
    "\n",
    "class USA_to():\n",
    "    def Capital(self):\n",
    "        print(\"New Delhi is the capital of USA.\")\n",
    "\n",
    "    def language(self):\n",
    "        print(\"Hindi is the most widely spoken language of USA.\")\n",
    "\n",
    "    def type(self):\n",
    "        print(\"USA is a developing country.\")\n",
    "\n",
    "def Man_obj(My_obj):\n",
    "    print(My_obj.Capital())\n",
    "    print(My_obj.language())\n",
    "    print(My_obj.type())\n",
    "\n",
    "\n",
    "if __name__ == '__main__':\n",
    "    ind_ob = India_to()\n",
    "    USA_obj = USA_to()\n",
    "\n",
    "    Man_obj(ind_ob)\n",
    "    Man_obj(USA_obj)\n",
    "\n"
   ]
  },
  {
   "cell_type": "code",
   "execution_count": 143,
   "metadata": {},
   "outputs": [
    {
     "name": "stdout",
     "output_type": "stream",
     "text": [
      "python\n",
      "jython\n",
      "MCA\n",
      "manjunat\n",
      "101\n",
      "kick\n",
      "108\n",
      "kannur\n"
     ]
    }
   ],
   "source": [
    "class My_static(object):\n",
    "    stream = 'MCA'\n",
    "    def __init__(self,name,roll):\n",
    "        self.name = name\n",
    "        self.roll = roll\n",
    "\n",
    "def Main_strea():\n",
    "    My = My_static('manjunat',101)\n",
    "    Dy = My_static('kick',108)\n",
    "    My.stream = 'python'\n",
    "    Dy.stream = 'jython'\n",
    "    print(My.stream)\n",
    "    print(Dy.stream)\n",
    "    print(My_static.stream)\n",
    "    print(My.name)\n",
    "    print(My.roll)\n",
    "    print(Dy.name)\n",
    "    print(Dy.roll)\n",
    "\n",
    "    Dy.name = 'kannur'\n",
    "    print(Dy.name)\n",
    "\n",
    "\n",
    "if __name__ == \"__main__\":\n",
    "    Main_strea()"
   ]
  },
  {
   "cell_type": "code",
   "execution_count": null,
   "metadata": {},
   "outputs": [],
   "source": [
    "class Person(object):\n",
    "    def __init__(self,name,age):\n",
    "        self.name = name\n",
    "        self.age = age\n",
    "\n",
    "    def "
   ]
  }
 ],
 "metadata": {
  "kernelspec": {
   "display_name": "Python 3.9.2 64-bit",
   "language": "python",
   "name": "python3"
  },
  "language_info": {
   "codemirror_mode": {
    "name": "ipython",
    "version": 3
   },
   "file_extension": ".py",
   "mimetype": "text/x-python",
   "name": "python",
   "nbconvert_exporter": "python",
   "pygments_lexer": "ipython3",
   "version": "3.9.2"
  },
  "orig_nbformat": 4,
  "vscode": {
   "interpreter": {
    "hash": "b44dec303c593d8d8daa19f9928a44a58f5dd6858780405ef540750c1cbc0680"
   }
  }
 },
 "nbformat": 4,
 "nbformat_minor": 2
}
