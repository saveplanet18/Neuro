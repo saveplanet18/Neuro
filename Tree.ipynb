{
 "cells": [
  {
   "cell_type": "code",
   "execution_count": 1,
   "metadata": {},
   "outputs": [],
   "source": [
    "class Node(object):\n",
    "\n",
    "    def __init__(self,elements):\n",
    "        self.elements = elements\n",
    "        self.left = None\n",
    "        self.right = None\n"
   ]
  },
  {
   "cell_type": "code",
   "execution_count": 10,
   "metadata": {},
   "outputs": [
    {
     "name": "stdout",
     "output_type": "stream",
     "text": [
      "4->2->5->1->90->3->108->None\n",
      "1->2->4->5->3->90->108->None\n",
      "4->5->2->90->108->3->1->None\n"
     ]
    }
   ],
   "source": [
    "root = Node(1)\n",
    "root.left = Node(2)\n",
    "root.right = Node(3)\n",
    "root.left.left = Node(4)\n",
    "root.left.right = Node(5)\n",
    "root.right.left = Node(90)\n",
    "root.right.right  = Node(108)\n",
    "\n",
    "\n",
    "def in_order(root):\n",
    "    if root:\n",
    "        in_order(root.left)\n",
    "        print(str(root.elements) + '->', end = \"\")\n",
    "        in_order(root.right)\n",
    "\n",
    "print(in_order(root))\n",
    "\n",
    "def pre_order(root):\n",
    "    if root:\n",
    "        print(str(root.elements) + \"->\",end = \"\")\n",
    "        pre_order(root.left)\n",
    "        pre_order(root.right)\n",
    "        # return root\n",
    "print(pre_order(root))\n",
    "\n",
    "def post_order(root):\n",
    "    if root:\n",
    "        post_order(root.left)\n",
    "        post_order(root.right)\n",
    "        print(str(root.elements)+ '->',end = \"\")\n",
    "\n",
    "print(post_order(root))"
   ]
  },
  {
   "cell_type": "code",
   "execution_count": 11,
   "metadata": {},
   "outputs": [],
   "source": [
    "class creation_Node(object):\n",
    "    \n",
    "    def __init__(self,elements):\n",
    "        self.elements = elements\n",
    "        self.left = None\n",
    "        self.right = None"
   ]
  },
  {
   "cell_type": "code",
   "execution_count": 19,
   "metadata": {},
   "outputs": [
    {
     "name": "stdout",
     "output_type": "stream",
     "text": [
      "4->2->6->5->7->1->3->None\n",
      "1->2->4->5->6->7->3->None\n",
      "4->6->7->5->2->3->1->None\n"
     ]
    }
   ],
   "source": [
    "root1 = creation_Node(1)\n",
    "root1.left = creation_Node(2)\n",
    "root1.right = creation_Node(3)\n",
    "root1.left.left = creation_Node(4)\n",
    "root1.left.right = creation_Node(5)\n",
    "root1.left.right.left = creation_Node(6)\n",
    "root1.left.right.right = creation_Node(7)\n",
    "\n",
    "def in_order1(root1):\n",
    "    if root1:\n",
    "        in_order1(root1.left)\n",
    "        print(str(root1.elements) + '->' , end = '')\n",
    "        in_order1(root1.right)\n",
    "\n",
    "print(in_order1(root1))\n",
    "def pre_order1(root):\n",
    "    if root:\n",
    "        print(str(root.elements) + \"->\",end = \"\")\n",
    "        pre_order(root.left)\n",
    "        pre_order(root.right)\n",
    "        # return root\n",
    "print(pre_order1(root1))\n",
    "def post_order1(root):\n",
    "    if root:\n",
    "        post_order(root.left)\n",
    "        post_order(root.right)\n",
    "        print(str(root.elements)+ '->',end = \"\")\n",
    "\n",
    "print(post_order1(root1))"
   ]
  },
  {
   "cell_type": "code",
   "execution_count": 32,
   "metadata": {},
   "outputs": [],
   "source": [
    "class tree(object):\n",
    "\n",
    "    def __init__(self,elements):\n",
    "        self.elements = elements\n",
    "        self.left = None\n",
    "        self.right = None\n",
    "\n",
    "\n",
    "    def away_preorder(self):\n",
    "        print(str(self.elements)+ '->' , end= '')\n",
    "        if self.left:\n",
    "            self.left.away_preorder()\n",
    "        if self.right:\n",
    "            self.right.away_preorder()\n",
    "\n",
    "    def away_postorder(self):\n",
    "        if self.left:\n",
    "            self.left.away_postorder()\n",
    "        if self.right:\n",
    "            self.right.away_postorder()\n",
    "        print(str(self.elements)+ '->',end = \"\")\n",
    "\n",
    "    def away_inorder(self):\n",
    "        if self.left:\n",
    "            self.left.away_inorder()\n",
    "        print(str(self.elements) + '->',end = \"\")\n",
    "        if self.right:\n",
    "            self.right.away_inorder()\n"
   ]
  },
  {
   "cell_type": "code",
   "execution_count": 35,
   "metadata": {},
   "outputs": [
    {
     "name": "stdout",
     "output_type": "stream",
     "text": [
      "1->2->4->5->3->None\n",
      "4->5->2->3->1->None\n",
      "4->2->5->1->3->None\n"
     ]
    }
   ],
   "source": [
    "my_root = tree(1)\n",
    "my_root.left = tree(2)\n",
    "my_root.right= tree(3)\n",
    "my_root.left.left = tree(4)\n",
    "my_root.left.right = tree(5)\n",
    "print(my_root.away_preorder())\n",
    "print(my_root.away_postorder())\n",
    "print(my_root.away_inorder())\n"
   ]
  },
  {
   "cell_type": "code",
   "execution_count": null,
   "metadata": {},
   "outputs": [],
   "source": []
  }
 ],
 "metadata": {
  "kernelspec": {
   "display_name": "Python 3.9.2 64-bit",
   "language": "python",
   "name": "python3"
  },
  "language_info": {
   "codemirror_mode": {
    "name": "ipython",
    "version": 3
   },
   "file_extension": ".py",
   "mimetype": "text/x-python",
   "name": "python",
   "nbconvert_exporter": "python",
   "pygments_lexer": "ipython3",
   "version": "3.9.2"
  },
  "orig_nbformat": 4,
  "vscode": {
   "interpreter": {
    "hash": "b44dec303c593d8d8daa19f9928a44a58f5dd6858780405ef540750c1cbc0680"
   }
  }
 },
 "nbformat": 4,
 "nbformat_minor": 2
}
