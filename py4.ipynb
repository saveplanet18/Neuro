{
 "cells": [
  {
   "cell_type": "code",
   "execution_count": 4,
   "metadata": {},
   "outputs": [
    {
     "name": "stdout",
     "output_type": "stream",
     "text": [
      "<__main__.Person object at 0x0000019AC92ECA00>\n",
      "True\n",
      "32\n"
     ]
    }
   ],
   "source": [
    "from datetime import date\n",
    "class Person(object):\n",
    "    def __init__(self,name,age):\n",
    "        self.name = name\n",
    "        self.age = age\n",
    "\n",
    "    @classmethod\n",
    "    def birthyear(cls,data_birth,name):\n",
    "        return cls(name,date.today().year)\n",
    "\n",
    "    @staticmethod\n",
    "    def isadult(age):\n",
    "        return age>18\n",
    "\n",
    "\n",
    "def Main():\n",
    "    pt = Person('manjuanth',32)\n",
    "    print(pt.birthyear('mahesh',2015))\n",
    "    print(pt.isadult(25))\n",
    "    print(pt.age)\n",
    "\n",
    "if __name__ == '__main__':\n",
    "    Main()\n",
    "\n",
    "\n",
    "\n",
    "    "
   ]
  },
  {
   "cell_type": "code",
   "execution_count": 8,
   "metadata": {},
   "outputs": [
    {
     "name": "stdout",
     "output_type": "stream",
     "text": [
      "manjunath\n"
     ]
    }
   ],
   "source": [
    "# def __init__(self):\n",
    "#     # body of constructor\n",
    "\n",
    "# defualt constructor\n",
    "# parametrized constructor\n",
    "\n",
    "class Person(object):\n",
    "    def __init__(self):\n",
    "        self.name = 'manjunath'\n",
    "\n",
    "    def get_name(self):\n",
    "        return self.name\n",
    "\n",
    "def Main_name():\n",
    "    pt = Person()\n",
    "    print(pt.get_name())\n",
    "\n",
    "if __name__ == '__main__':\n",
    "    Main_name()\n",
    "\n",
    "\n"
   ]
  },
  {
   "cell_type": "code",
   "execution_count": 11,
   "metadata": {},
   "outputs": [
    {
     "name": "stdout",
     "output_type": "stream",
     "text": [
      "first number is 18\n",
      "first number is 45\n",
      "first number is 0\n",
      "None\n",
      "False\n"
     ]
    }
   ],
   "source": [
    "class addition(object):\n",
    "    first = 0\n",
    "    second = 0\n",
    "    ans = 0\n",
    "    def __init__(self,number1 , number2):\n",
    "        self.first = number1\n",
    "        self.second = number2\n",
    "\n",
    "    def display(self):\n",
    "        print(f\"first number is {self.first}\") \n",
    "        print(f\"first number is {self.second}\")\n",
    "        print(f\"first number is {self.ans}\")  \n",
    "\n",
    "\n",
    "    def print_addition(self):\n",
    "        return self.ans == self.first + self.second\n",
    "\n",
    "\n",
    "def Main_addition():\n",
    "    ad = addition(18,45)\n",
    "    print(ad.display())\n",
    "    print(ad.print_addition())\n",
    "\n",
    "if __name__ == '__main__':\n",
    "    Main_addition()"
   ]
  },
  {
   "cell_type": "code",
   "execution_count": 12,
   "metadata": {},
   "outputs": [
    {
     "name": "stdout",
     "output_type": "stream",
     "text": [
      "constructor is created and more energy is produced\n",
      "constructor is deleted...\n"
     ]
    }
   ],
   "source": [
    "class Employee(object):\n",
    "    def __init__(self):\n",
    "        print(\"constructor is created and more energy is produced\")\n",
    "\n",
    "    def __del__(self):\n",
    "        print(\"constructor is deleted...\")\n",
    "\n",
    "\n",
    "def main_delete():\n",
    "    E = Employee()\n",
    "    del E\n",
    "\n",
    "if __name__ == '__main__':\n",
    "    main_delete()"
   ]
  },
  {
   "cell_type": "code",
   "execution_count": 15,
   "metadata": {},
   "outputs": [
    {
     "name": "stdout",
     "output_type": "stream",
     "text": [
      "HELLO\n"
     ]
    }
   ],
   "source": [
    "def shout(tex):\n",
    "    return tex.upper()\n",
    "\n",
    "yella = shout\n",
    "\n",
    "\n",
    "print(yella('hello'))"
   ]
  },
  {
   "cell_type": "code",
   "execution_count": 17,
   "metadata": {},
   "outputs": [
    {
     "name": "stdout",
     "output_type": "stream",
     "text": [
      "MY NAME IS MANJUNATH KANNUR I WAS 32 OLD WORKING AS SENIOR SOFWARE ENGINEER\n",
      "my name is manjunath kannur i was 32 old working as senior sofware engineer\n"
     ]
    }
   ],
   "source": [
    "def shout(txt):\n",
    "    return txt.upper()\n",
    "\n",
    "def whisper(txt):\n",
    "    return txt.lower()\n",
    "\n",
    "\n",
    "def greetings(func):\n",
    "    greet = func(\"my name is manjunath kannur i was 32 old working as Senior Sofware Engineer\")\n",
    "    return greet\n",
    "\n",
    "def main_greeting():\n",
    "    print(greetings(shout))\n",
    "    print(greetings(whisper))\n",
    "\n",
    "\n",
    "if __name__ == '__main__':\n",
    "    main_greeting()\n"
   ]
  },
  {
   "cell_type": "code",
   "execution_count": 18,
   "metadata": {},
   "outputs": [
    {
     "name": "stdout",
     "output_type": "stream",
     "text": [
      "33\n"
     ]
    }
   ],
   "source": [
    "def create_adder(x):\n",
    "    def adder(y):\n",
    "        return x+y\n",
    "    return adder\n",
    "\n",
    "add_15 = create_adder(15)\n",
    "print(add_15(18))\n"
   ]
  },
  {
   "cell_type": "code",
   "execution_count": 19,
   "metadata": {},
   "outputs": [
    {
     "name": "stdout",
     "output_type": "stream",
     "text": [
      "type is num is : <class 'int'>\n",
      "list are above is  <class 'list'>\n",
      "type is name is  <class 'str'>\n"
     ]
    }
   ],
   "source": [
    "num = 18\n",
    "print(\"type is num is :\",type(num))\n",
    "lst = [18,45,36]\n",
    "print(\"list are above is \",type(lst))\n",
    "name = 'manjunath'\n",
    "print(\"type is name is \",type(name))\n"
   ]
  },
  {
   "cell_type": "code",
   "execution_count": 20,
   "metadata": {},
   "outputs": [
    {
     "name": "stdout",
     "output_type": "stream",
     "text": [
      "type is object <class '__main__.student'>\n"
     ]
    }
   ],
   "source": [
    "class student(object):\n",
    "    pass\n",
    "\n",
    "stu_obj = student()\n",
    "\n",
    "print(\"type is object\",type(stu_obj))"
   ]
  },
  {
   "cell_type": "code",
   "execution_count": 21,
   "metadata": {},
   "outputs": [
    {
     "name": "stdout",
     "output_type": "stream",
     "text": [
      "type of student is  <class '__main__.student1'>\n"
     ]
    }
   ],
   "source": [
    "class student1(object):\n",
    "    pass\n",
    "\n",
    "stu1 = student1()\n",
    "\n",
    "print(\"type of student is \",type(stu1))"
   ]
  },
  {
   "cell_type": "code",
   "execution_count": 22,
   "metadata": {},
   "outputs": [
    {
     "name": "stdout",
     "output_type": "stream",
     "text": [
      "18\n",
      "the vlaues is better than is anything.....\n"
     ]
    }
   ],
   "source": [
    "class Test:\n",
    "    pass\n",
    "\n",
    "Test.x = 18\n",
    "\n",
    "print(Test.x)\n",
    "print(\"the vlaues is better than is anything.....\")"
   ]
  },
  {
   "cell_type": "code",
   "execution_count": 23,
   "metadata": {},
   "outputs": [
    {
     "name": "stdout",
     "output_type": "stream",
     "text": [
      "<function try1.print_say.<locals>.sayhello at 0x0000019AC9389160>\n"
     ]
    }
   ],
   "source": [
    "class try1(object):\n",
    "    # def __init__(self,name,age):\n",
    "    #     self.name = name\n",
    "    #     self.age = age\n",
    "\n",
    "    def print_say(self):\n",
    "        def sayhello():\n",
    "            print(\"sayhello\")\n",
    "        return sayhello\n",
    "\n",
    "\n",
    "\n",
    "obj1 = try1()\n",
    "obj1.print_say()\n",
    "print(obj1.print_say())\n",
    "            \n"
   ]
  },
  {
   "cell_type": "code",
   "execution_count": 25,
   "metadata": {},
   "outputs": [
    {
     "name": "stdout",
     "output_type": "stream",
     "text": [
      "size is used in 18\n"
     ]
    }
   ],
   "source": [
    "class fruit(object):\n",
    "    # def __init__(self,name,age):\n",
    "    #     self.name = name\n",
    "    #     self.age = age\n",
    "\n",
    "    def size(self,x):\n",
    "        print(f\"size is used in {x}\")\n",
    "\n",
    "orange = fruit()\n",
    "orange.size(18)\n",
    "\n",
    "    "
   ]
  },
  {
   "cell_type": "code",
   "execution_count": 31,
   "metadata": {},
   "outputs": [
    {
     "name": "stdout",
     "output_type": "stream",
     "text": [
      "i am printing my name hanumanchalisha and solution is produced 81\n"
     ]
    }
   ],
   "source": [
    "class fruit(object):\n",
    "    def __init__(self,name,age):\n",
    "        self.name = name\n",
    "        self.age = age\n",
    "\n",
    "    def print_solution(self):\n",
    "        print(f\"i am printing my name {str(self.name)} and solution is produced {int(self.age)}\")\n",
    "\n",
    "\n",
    "def main_ramp():\n",
    "    f = fruit('hanumanchalisha', 81)\n",
    "    f.print_solution()\n",
    "\n",
    "if __name__ == '__main__':\n",
    "    main_ramp()\n"
   ]
  },
  {
   "cell_type": "code",
   "execution_count": 36,
   "metadata": {},
   "outputs": [
    {
     "name": "stdout",
     "output_type": "stream",
     "text": [
      "None\n",
      "1\n",
      "None\n",
      "2\n"
     ]
    }
   ],
   "source": [
    "class sampleclass(object):\n",
    "    count = 0\n",
    "    def increase(self):\n",
    "        sampleclass.count += 1\n",
    "\n",
    "\n",
    "s1 = sampleclass()\n",
    "print(s1.increase())\n",
    "print(s1.count)\n",
    "\n",
    "s2 = sampleclass()\n",
    "print(s2.increase())\n",
    "print(s2.count)\n"
   ]
  },
  {
   "cell_type": "code",
   "execution_count": 37,
   "metadata": {},
   "outputs": [
    {
     "name": "stdout",
     "output_type": "stream",
     "text": [
      "kannur\n",
      "50000\n"
     ]
    }
   ],
   "source": [
    "class EMP(object):\n",
    "    def __init__(self):\n",
    "        self.name = 'kannur'\n",
    "        self.salary  = '50000'\n",
    "\n",
    "    def show(self):\n",
    "        print(self.name)\n",
    "        print(self.salary)\n",
    "\n",
    "def main_map():\n",
    "    en2 = EMP()\n",
    "    print(en2.name)\n",
    "    print(en2.salary)\n",
    "\n",
    "if __name__ == '__main__':\n",
    "    main_map()"
   ]
  },
  {
   "cell_type": "code",
   "execution_count": 41,
   "metadata": {},
   "outputs": [
    {
     "name": "stdout",
     "output_type": "stream",
     "text": [
      "18\n",
      "manjunath\n"
     ]
    }
   ],
   "source": [
    "# number = [18,45,36]\n",
    "# print(dir(number))\n",
    "\n",
    "class Emoloyee_name(object):\n",
    "    def __init__(self,name , age):\n",
    "        self.name = name\n",
    "        self.age =age\n",
    "\n",
    "Emp = Emoloyee_name('manjunath',18)\n",
    "print(Emp.age)\n",
    "print(Emp.name)"
   ]
  },
  {
   "cell_type": "code",
   "execution_count": 42,
   "metadata": {},
   "outputs": [
    {
     "name": "stdout",
     "output_type": "stream",
     "text": [
      "0\n",
      "0\n"
     ]
    }
   ],
   "source": [
    "binary = 0\n",
    "print(binary)\n",
    "to_dark = 0\n",
    "print(to_dark)"
   ]
  },
  {
   "cell_type": "code",
   "execution_count": 48,
   "metadata": {},
   "outputs": [
    {
     "name": "stdout",
     "output_type": "stream",
     "text": [
      "[18]\n"
     ]
    }
   ],
   "source": [
    "def create_style():\n",
    "    mylist = []\n",
    "    mylist.append(18)\n",
    "    return mylist\n",
    "\n",
    "ct = create_style()\n",
    "print(ct)"
   ]
  },
  {
   "cell_type": "code",
   "execution_count": 50,
   "metadata": {},
   "outputs": [
    {
     "ename": "NameError",
     "evalue": "name 'ct' is not defined",
     "output_type": "error",
     "traceback": [
      "\u001b[1;31m---------------------------------------------------------------------------\u001b[0m",
      "\u001b[1;31mNameError\u001b[0m                                 Traceback (most recent call last)",
      "\u001b[1;32m~\\AppData\\Local\\Temp/ipykernel_11752/2669686947.py\u001b[0m in \u001b[0;36m<module>\u001b[1;34m\u001b[0m\n\u001b[0;32m      1\u001b[0m \u001b[1;32mdel\u001b[0m \u001b[0mct\u001b[0m\u001b[1;33m\u001b[0m\u001b[1;33m\u001b[0m\u001b[0m\n\u001b[1;32m----> 2\u001b[1;33m \u001b[0mct\u001b[0m\u001b[1;33m\u001b[0m\u001b[1;33m\u001b[0m\u001b[0m\n\u001b[0m",
      "\u001b[1;31mNameError\u001b[0m: name 'ct' is not defined"
     ]
    }
   ],
   "source": [
    "del ct\n",
    "ct"
   ]
  },
  {
   "cell_type": "code",
   "execution_count": 51,
   "metadata": {},
   "outputs": [
    {
     "name": "stdout",
     "output_type": "stream",
     "text": [
      "340\n"
     ]
    }
   ],
   "source": [
    "import gc\n",
    "\n",
    "collected = gc.collect()\n",
    "print(collected)"
   ]
  },
  {
   "cell_type": "code",
   "execution_count": 53,
   "metadata": {},
   "outputs": [
    {
     "name": "stdout",
     "output_type": "stream",
     "text": [
      "your are eligble now\n"
     ]
    }
   ],
   "source": [
    "amount = 10000\n",
    "if (amount > 2999):\n",
    "    print(\"your are eligble now\")"
   ]
  },
  {
   "cell_type": "code",
   "execution_count": 54,
   "metadata": {},
   "outputs": [
    {
     "ename": "ZeroDivisionError",
     "evalue": "division by zero",
     "output_type": "error",
     "traceback": [
      "\u001b[1;31m---------------------------------------------------------------------------\u001b[0m",
      "\u001b[1;31mZeroDivisionError\u001b[0m                         Traceback (most recent call last)",
      "\u001b[1;32m~\\AppData\\Local\\Temp/ipykernel_11752/3518610126.py\u001b[0m in \u001b[0;36m<module>\u001b[1;34m\u001b[0m\n\u001b[0;32m      1\u001b[0m \u001b[0mmarks\u001b[0m \u001b[1;33m=\u001b[0m \u001b[1;36m10000\u001b[0m\u001b[1;33m\u001b[0m\u001b[1;33m\u001b[0m\u001b[0m\n\u001b[0;32m      2\u001b[0m \u001b[1;33m\u001b[0m\u001b[0m\n\u001b[1;32m----> 3\u001b[1;33m \u001b[0ma\u001b[0m \u001b[1;33m=\u001b[0m \u001b[0mmarks\u001b[0m\u001b[1;33m/\u001b[0m\u001b[1;36m0\u001b[0m\u001b[1;33m\u001b[0m\u001b[1;33m\u001b[0m\u001b[0m\n\u001b[0m\u001b[0;32m      4\u001b[0m \u001b[0mprint\u001b[0m\u001b[1;33m(\u001b[0m\u001b[0ma\u001b[0m\u001b[1;33m)\u001b[0m\u001b[1;33m\u001b[0m\u001b[1;33m\u001b[0m\u001b[0m\n",
      "\u001b[1;31mZeroDivisionError\u001b[0m: division by zero"
     ]
    }
   ],
   "source": [
    "marks = 10000\n",
    "\n",
    "a = marks/0\n",
    "print(a)"
   ]
  },
  {
   "cell_type": "code",
   "execution_count": 56,
   "metadata": {},
   "outputs": [
    {
     "name": "stdout",
     "output_type": "stream",
     "text": [
      "NameError occur are handled\n"
     ]
    }
   ],
   "source": [
    "def fun(a):\n",
    "    if a> 4:\n",
    "        b = a / (a-3)\n",
    "    print(\"print the values is here\",b)\n",
    "\n",
    "try :\n",
    "    fun(2)\n",
    "    fun(3)\n",
    "except ZeroDivisionError :\n",
    "    print(\"ZeroDivisionError are occured\")\n",
    "except NameError :\n",
    "    print(\"NameError occur are handled\")\n"
   ]
  },
  {
   "cell_type": "code",
   "execution_count": 57,
   "metadata": {},
   "outputs": [
    {
     "name": "stdout",
     "output_type": "stream",
     "text": [
      "-2.3333333333333335\n",
      "None\n"
     ]
    }
   ],
   "source": [
    "def AbyB (a,b):\n",
    "    try:\n",
    "        c = ((a+b)/ (a-b))\n",
    "    except ZeroDivisionError :\n",
    "        print(\"ZeroDivisionError occure are handled..\")\n",
    "    else:\n",
    "        print(c)\n",
    "\n",
    "tt = AbyB(18,45)\n",
    "print(tt)"
   ]
  },
  {
   "cell_type": "code",
   "execution_count": 58,
   "metadata": {},
   "outputs": [
    {
     "name": "stdout",
     "output_type": "stream",
     "text": [
      "can't divide by zero\n",
      "this is always excuted..\n"
     ]
    }
   ],
   "source": [
    "try :\n",
    "    k = 5//0\n",
    "    print(k)\n",
    "except ZeroDivisionError:\n",
    "    print(\"can't divide by zero\")\n",
    "finally:\n",
    "    print(\"this is always excuted..\")"
   ]
  },
  {
   "cell_type": "code",
   "execution_count": 59,
   "metadata": {},
   "outputs": [
    {
     "name": "stdout",
     "output_type": "stream",
     "text": [
      "An Exception\n"
     ]
    },
    {
     "ename": "NameError",
     "evalue": "hi der",
     "output_type": "error",
     "traceback": [
      "\u001b[1;31m---------------------------------------------------------------------------\u001b[0m",
      "\u001b[1;31mNameError\u001b[0m                                 Traceback (most recent call last)",
      "\u001b[1;32m~\\AppData\\Local\\Temp/ipykernel_11752/3289811732.py\u001b[0m in \u001b[0;36m<module>\u001b[1;34m\u001b[0m\n\u001b[0;32m      1\u001b[0m \u001b[1;32mtry\u001b[0m \u001b[1;33m:\u001b[0m\u001b[1;33m\u001b[0m\u001b[1;33m\u001b[0m\u001b[0m\n\u001b[1;32m----> 2\u001b[1;33m     \u001b[1;32mraise\u001b[0m \u001b[0mNameError\u001b[0m\u001b[1;33m(\u001b[0m\u001b[1;34m'hi der'\u001b[0m\u001b[1;33m)\u001b[0m\u001b[1;33m\u001b[0m\u001b[1;33m\u001b[0m\u001b[0m\n\u001b[0m\u001b[0;32m      3\u001b[0m \u001b[1;32mexcept\u001b[0m \u001b[0mNameError\u001b[0m\u001b[1;33m:\u001b[0m\u001b[1;33m\u001b[0m\u001b[1;33m\u001b[0m\u001b[0m\n\u001b[0;32m      4\u001b[0m     \u001b[0mprint\u001b[0m\u001b[1;33m(\u001b[0m\u001b[1;34m\"An Exception\"\u001b[0m\u001b[1;33m)\u001b[0m\u001b[1;33m\u001b[0m\u001b[1;33m\u001b[0m\u001b[0m\n\u001b[0;32m      5\u001b[0m     \u001b[1;32mraise\u001b[0m\u001b[1;33m\u001b[0m\u001b[1;33m\u001b[0m\u001b[0m\n",
      "\u001b[1;31mNameError\u001b[0m: hi der"
     ]
    }
   ],
   "source": [
    "try :\n",
    "    raise NameError('hi der')\n",
    "except NameError:\n",
    "    print(\"An Exception\")\n",
    "    raise\n",
    "\n"
   ]
  },
  {
   "cell_type": "code",
   "execution_count": 62,
   "metadata": {},
   "outputs": [
    {
     "name": "stdout",
     "output_type": "stream",
     "text": [
      "numpy are is displayaced 1:  [18 45 36]\n"
     ]
    },
    {
     "ename": "TypeError",
     "evalue": "Field elements must be 2- or 3-tuples, got '36'",
     "output_type": "error",
     "traceback": [
      "\u001b[1;31m---------------------------------------------------------------------------\u001b[0m",
      "\u001b[1;31mTypeError\u001b[0m                                 Traceback (most recent call last)",
      "\u001b[1;32m~\\AppData\\Local\\Temp/ipykernel_11752/2461210184.py\u001b[0m in \u001b[0;36m<module>\u001b[1;34m\u001b[0m\n\u001b[0;32m      5\u001b[0m \u001b[1;33m\u001b[0m\u001b[0m\n\u001b[0;32m      6\u001b[0m \u001b[1;33m\u001b[0m\u001b[0m\n\u001b[1;32m----> 7\u001b[1;33m \u001b[0marr2\u001b[0m \u001b[1;33m=\u001b[0m \u001b[0mnp\u001b[0m\u001b[1;33m.\u001b[0m\u001b[0marray\u001b[0m\u001b[1;33m(\u001b[0m\u001b[1;33m[\u001b[0m\u001b[1;36m18\u001b[0m\u001b[1;33m,\u001b[0m\u001b[1;36m45\u001b[0m\u001b[1;33m,\u001b[0m\u001b[1;36m36\u001b[0m\u001b[1;33m]\u001b[0m\u001b[1;33m,\u001b[0m\u001b[1;33m[\u001b[0m\u001b[1;36m36\u001b[0m\u001b[1;33m,\u001b[0m\u001b[1;36m81\u001b[0m\u001b[1;33m,\u001b[0m\u001b[1;36m92\u001b[0m\u001b[1;33m]\u001b[0m\u001b[1;33m)\u001b[0m\u001b[1;33m\u001b[0m\u001b[1;33m\u001b[0m\u001b[0m\n\u001b[0m\u001b[0;32m      8\u001b[0m \u001b[0mprint\u001b[0m\u001b[1;33m(\u001b[0m\u001b[0marr2\u001b[0m\u001b[1;33m)\u001b[0m\u001b[1;33m\u001b[0m\u001b[1;33m\u001b[0m\u001b[0m\n",
      "\u001b[1;31mTypeError\u001b[0m: Field elements must be 2- or 3-tuples, got '36'"
     ]
    }
   ],
   "source": [
    "import numpy as np\n",
    "\n",
    "arr = np.array([18,45,36])\n",
    "print(\"numpy are is displayaced 1: \",arr)\n",
    "\n",
    "\n",
    "arr2 = np.array([18,45,36],[36,81,92])\n",
    "print(arr2)"
   ]
  },
  {
   "cell_type": "code",
   "execution_count": null,
   "metadata": {},
   "outputs": [],
   "source": []
  }
 ],
 "metadata": {
  "kernelspec": {
   "display_name": "Python 3.9.2 64-bit",
   "language": "python",
   "name": "python3"
  },
  "language_info": {
   "codemirror_mode": {
    "name": "ipython",
    "version": 3
   },
   "file_extension": ".py",
   "mimetype": "text/x-python",
   "name": "python",
   "nbconvert_exporter": "python",
   "pygments_lexer": "ipython3",
   "version": "3.9.2"
  },
  "orig_nbformat": 4,
  "vscode": {
   "interpreter": {
    "hash": "b44dec303c593d8d8daa19f9928a44a58f5dd6858780405ef540750c1cbc0680"
   }
  }
 },
 "nbformat": 4,
 "nbformat_minor": 2
}
